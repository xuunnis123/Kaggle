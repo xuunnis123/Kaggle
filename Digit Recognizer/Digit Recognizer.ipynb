{
  "nbformat": 4,
  "nbformat_minor": 0,
  "metadata": {
    "colab": {
      "name": "Lab2.ipynb",
      "provenance": []
    },
    "kernelspec": {
      "name": "python3",
      "display_name": "Python 3"
    },
    "language_info": {
      "name": "python"
    },
    "accelerator": "GPU"
  },
  "cells": [
    {
      "cell_type": "markdown",
      "metadata": {
        "id": "fHnJ6ORcq019"
      },
      "source": [
        "# Use MLP to predict the results"
      ]
    },
    {
      "cell_type": "code",
      "metadata": {
        "colab": {
          "base_uri": "https://localhost:8080/"
        },
        "id": "9L0dTeQG5qQ8",
        "outputId": "e90eb18a-638a-461d-c521-0a433833efdd"
      },
      "source": [
        "from google.colab import drive\n",
        "drive.mount('/content/drive')"
      ],
      "execution_count": null,
      "outputs": [
        {
          "output_type": "stream",
          "name": "stdout",
          "text": [
            "Drive already mounted at /content/drive; to attempt to forcibly remount, call drive.mount(\"/content/drive\", force_remount=True).\n"
          ]
        }
      ]
    },
    {
      "cell_type": "code",
      "metadata": {
        "id": "eu0LkdPxLZue"
      },
      "source": [
        "# from keras.models import Sequential\n",
        "# from keras.utils import np_utils\n",
        "# from keras.layers.core import Dense, Activation, Dropout\n",
        "\n",
        "# import pandas as pd\n",
        "# import numpy as np\n",
        "\n",
        "# # Read data\n",
        "# train = pd.read_csv('/content/drive/MyDrive/Colab Notebooks/train.csv')\n",
        "# labels = train.iloc[:,0].values.astype('int32')\n",
        "# X_train = (train.iloc[:,1:].values).astype('float32')\n",
        "# X_test = (pd.read_csv('/content/drive/MyDrive/Colab Notebooks/test.csv').values).astype('float32')\n",
        "\n",
        "# # convert list of labels to binary class matrix\n",
        "# y_train = np_utils.to_categorical(labels) \n",
        "\n",
        "# # pre-processing: divide by max and substract mean\n",
        "# scale = np.max(X_train)\n",
        "# X_train /= scale\n",
        "# X_test /= scale\n",
        "\n",
        "# mean = np.std(X_train)\n",
        "# X_train -= mean\n",
        "# X_test -= mean\n",
        "\n",
        "# input_dim = X_train.shape[1]\n",
        "# nb_classes = y_train.shape[1]\n",
        "\n",
        "# # Here's a Deep Dumb MLP (DDMLP)\n",
        "# model = Sequential()\n",
        "# model.add(Dense(128, input_dim=input_dim))\n",
        "# model.add(Activation('relu'))\n",
        "# model.add(Dropout(0.15))\n",
        "# model.add(Dense(128))\n",
        "# model.add(Activation('relu'))\n",
        "# model.add(Dropout(0.15))\n",
        "# model.add(Dense(nb_classes))\n",
        "# model.add(Activation('softmax'))\n",
        "\n",
        "# # we'll use categorical xent for the loss, and RMSprop as the optimizer\n",
        "# model.compile(loss='categorical_crossentropy', optimizer='rmsprop', metrics=['accuracy'])\n",
        "\n",
        "# print(\"Training...\")\n",
        "# model.fit(X_train, y_train, epochs=100, batch_size=16, validation_split=0.1, verbose=2)\n",
        "\n",
        "# print(\"Generating test predictions...\")\n",
        "# preds = model.predict(X_test, verbose=0)\n",
        "# classes_x=np.argmax(preds,axis=1)\n",
        "\n",
        "# def write_preds(preds, fname):\n",
        "#     pd.DataFrame({\"ImageId\": list(range(1,len(preds)+1)), \"Label\": classes_x}).to_csv(fname, index=False, header=True)\n",
        "\n",
        "# write_preds(preds, \"keras-mlp.csv\")\n",
        "# print(\"Done!\")"
      ],
      "execution_count": null,
      "outputs": []
    },
    {
      "cell_type": "markdown",
      "metadata": {
        "id": "CCSodWBtrB-z"
      },
      "source": [
        "# Use CNN to predict the results"
      ]
    },
    {
      "cell_type": "markdown",
      "metadata": {
        "id": "kMbhZaAbu8ic"
      },
      "source": [
        "## Import necessary tools"
      ]
    },
    {
      "cell_type": "code",
      "metadata": {
        "id": "Hyq1GgewrGOd"
      },
      "source": [
        "import pandas as pd\n",
        "import numpy as np\n",
        "import matplotlib.pyplot as plt\n",
        "import matplotlib.image as mpimg\n",
        "import seaborn as sns\n",
        "# Could omit plt.show()\n",
        "%matplotlib inline \n",
        "\n",
        "np.random.seed(2)\n",
        "\n",
        "from sklearn.model_selection import train_test_split\n",
        "\n",
        "from keras.utils.np_utils import to_categorical # convert to one-hot-encoding\n",
        "from keras.models import Sequential\n",
        "from keras.layers import Dense, Dropout, Flatten, Conv2D, MaxPool2D"
      ],
      "execution_count": null,
      "outputs": []
    },
    {
      "cell_type": "markdown",
      "metadata": {
        "id": "zzihdBylv421"
      },
      "source": [
        "## Data Preparation"
      ]
    },
    {
      "cell_type": "code",
      "metadata": {
        "colab": {
          "base_uri": "https://localhost:8080/",
          "height": 525
        },
        "id": "xfGuLbgAv3ZC",
        "outputId": "4d4feca8-4435-44f2-f838-a919cd9db264"
      },
      "source": [
        "# Read data\n",
        "train = pd.read_csv('/content/drive/MyDrive/Colab Notebooks/train.csv')\n",
        "test = pd.read_csv('/content/drive/MyDrive/Colab Notebooks/test.csv')\n",
        "\n",
        "x_train = train.iloc[:,1:]\n",
        "y_train = train['label']\n",
        "\n",
        "sns.countplot(y_train) # The data labels are Evenly distributed\n",
        "y_train.value_counts() "
      ],
      "execution_count": null,
      "outputs": [
        {
          "output_type": "stream",
          "name": "stderr",
          "text": [
            "/usr/local/lib/python3.7/dist-packages/seaborn/_decorators.py:43: FutureWarning: Pass the following variable as a keyword arg: x. From version 0.12, the only valid positional argument will be `data`, and passing other arguments without an explicit keyword will result in an error or misinterpretation.\n",
            "  FutureWarning\n"
          ]
        },
        {
          "output_type": "execute_result",
          "data": {
            "text/plain": [
              "1    4684\n",
              "7    4401\n",
              "3    4351\n",
              "9    4188\n",
              "2    4177\n",
              "6    4137\n",
              "0    4132\n",
              "4    4072\n",
              "8    4063\n",
              "5    3795\n",
              "Name: label, dtype: int64"
            ]
          },
          "metadata": {},
          "execution_count": 16
        },
        {
          "output_type": "display_data",
          "data": {
            "image/png": "[encoded data removed]",
            "text/plain": [
              "<Figure size 432x288 with 1 Axes>"
            ]
          },
          "metadata": {
            "needs_background": "light"
          }
        }
      ]
    },
    {
      "cell_type": "code",
      "metadata": {
        "id": "R2V7VddPLdtV",
        "colab": {
          "base_uri": "https://localhost:8080/"
        },
        "outputId": "33c3d9b2-6a17-4657-efa8-5a830eb799a3"
      },
      "source": [
        "# Check Train data set hasn't include Null value\n",
        "x_train.isnull().any().describe()"
      ],
      "execution_count": null,
      "outputs": [
        {
          "output_type": "execute_result",
          "data": {
            "text/plain": [
              "count       784\n",
              "unique        1\n",
              "top       False\n",
              "freq        784\n",
              "dtype: object"
            ]
          },
          "metadata": {},
          "execution_count": 17
        }
      ]
    },
    {
      "cell_type": "code",
      "metadata": {
        "id": "7W6k-x0_JGhV",
        "colab": {
          "base_uri": "https://localhost:8080/"
        },
        "outputId": "4f0aaab8-29e3-4b64-b426-164f59cd8187"
      },
      "source": [
        "# Check Test data set hasn't include Null value\n",
        "test.isnull().any().describe()"
      ],
      "execution_count": null,
      "outputs": [
        {
          "output_type": "execute_result",
          "data": {
            "text/plain": [
              "count       784\n",
              "unique        1\n",
              "top       False\n",
              "freq        784\n",
              "dtype: object"
            ]
          },
          "metadata": {},
          "execution_count": 18
        }
      ]
    },
    {
      "cell_type": "markdown",
      "metadata": {
        "id": "-GrOLdhoaa9I"
      },
      "source": [
        "## Use Normalization & Reshape"
      ]
    },
    {
      "cell_type": "code",
      "metadata": {
        "id": "tpw-jtRKaiXG",
        "colab": {
          "base_uri": "https://localhost:8080/"
        },
        "outputId": "9d559ed1-0d17-4403-acad-4ee706a0516d"
      },
      "source": [
        "x_train /= 255\n",
        "test /= 255\n",
        "x_train = x_train.values.reshape(-1,28,28,1)\n",
        "test = test.values.reshape(-1,28,28,1)\n",
        "x_train.shape # (42000,784) -> (42000,28,28,1)"
      ],
      "execution_count": null,
      "outputs": [
        {
          "output_type": "execute_result",
          "data": {
            "text/plain": [
              "(42000, 28, 28, 1)"
            ]
          },
          "metadata": {},
          "execution_count": 19
        }
      ]
    },
    {
      "cell_type": "markdown",
      "metadata": {
        "id": "8xvTJtVqqUhT"
      },
      "source": [
        "## Let label to be a one hot vector"
      ]
    },
    {
      "cell_type": "code",
      "metadata": {
        "id": "zSpXS6InqaYH",
        "colab": {
          "base_uri": "https://localhost:8080/"
        },
        "outputId": "eb3e5ae3-f8ff-4d68-b44d-8a57b2f33fef"
      },
      "source": [
        "y_train = to_categorical(y_train, num_classes = 10) # 0 ~ 9\n",
        "y_train"
      ],
      "execution_count": null,
      "outputs": [
        {
          "output_type": "execute_result",
          "data": {
            "text/plain": [
              "array([[0., 1., 0., ..., 0., 0., 0.],\n",
              "       [1., 0., 0., ..., 0., 0., 0.],\n",
              "       [0., 1., 0., ..., 0., 0., 0.],\n",
              "       ...,\n",
              "       [0., 0., 0., ..., 1., 0., 0.],\n",
              "       [0., 0., 0., ..., 0., 0., 0.],\n",
              "       [0., 0., 0., ..., 0., 0., 1.]], dtype=float32)"
            ]
          },
          "metadata": {},
          "execution_count": 20
        }
      ]
    },
    {
      "cell_type": "markdown",
      "metadata": {
        "id": "Kv3TXHQ_ug5s"
      },
      "source": [
        "## Training Phase"
      ]
    },
    {
      "cell_type": "code",
      "metadata": {
        "id": "6eyNhdY8qsej"
      },
      "source": [
        "random_seed = 2\n",
        "x_train, x_val, y_train, y_val = train_test_split(x_train, y_train, test_size = 0.1, random_state=random_seed) # From Sklearn"
      ],
      "execution_count": null,
      "outputs": []
    },
    {
      "cell_type": "code",
      "metadata": {
        "id": "uE2ULDjhuYpn",
        "colab": {
          "base_uri": "https://localhost:8080/",
          "height": 539
        },
        "outputId": "c89964f1-d319-4d46-ca25-d132402c1f63"
      },
      "source": [
        "x_train[0].shape\n",
        "f, axarr = plt.subplots(3,3,figsize=(9, 9))\n",
        "# Show some images in training data\n",
        "for i in range(3):\n",
        "  for j in range(3):\n",
        "    axarr[i,j].imshow(x_train[i*10+j][:,:,0])      "
      ],
      "execution_count": null,
      "outputs": [
        {
          "output_type": "display_data",
          "data": {
            "image/png": "[encoded data removed]",
            "text/plain": [
              "<Figure size 648x648 with 9 Axes>"
            ]
          },
          "metadata": {
            "needs_background": "light"
          }
        }
      ]
    },
    {
      "cell_type": "code",
      "metadata": {
        "id": "LFKdsReyzJhM",
        "colab": {
          "base_uri": "https://localhost:8080/"
        },
        "outputId": "06ef36c5-82d9-49b9-f758-13d7a7ea969b"
      },
      "source": [
        "model = Sequential()\n",
        "# Model Structure: [[Conv + Relu]*2 -> MaxPool -> Dropout]*2 -> Flatten -> Dense -> Dropout -> Classification\n",
        "# Parameters Setting\n",
        "# filters ususally are the multiple of four\n",
        "# padding=\"same\" results in padding with zeros ,so the input dim could equal to the output dim\n",
        "# Second best model -> filters = 32, kernel_size(5,5)\n",
        "model.add(Conv2D(filters = 32, kernel_size = (3,3),padding = 'Same', activation ='relu', input_shape = (28,28,1)))\n",
        "model.add(Conv2D(filters = 32, kernel_size = (3,3),padding = 'Same', activation ='relu'))\n",
        "model.add(MaxPool2D(pool_size=(2,2))) # use MaxPool2D to find the maximum value and get the feature maps with dimension reduction\n",
        "model.add(Dropout(0.25))\n",
        "\n",
        "model.add(Conv2D(filters = 64, kernel_size = (3,3),padding = 'Same', activation ='relu'))\n",
        "model.add(Conv2D(filters = 64, kernel_size = (3,3),padding = 'Same', activation ='relu'))\n",
        "model.add(MaxPool2D(pool_size=(2,2)))\n",
        "model.add(Dropout(0.25))\n",
        "\n",
        "model.add(Flatten())\n",
        "model.add(Dense(256, activation = \"relu\"))\n",
        "model.add(Dropout(0.5))\n",
        "model.add(Dense(10, activation = \"softmax\"))\n",
        "\n",
        "# In order to reduce the learning rate\n",
        "from keras.callbacks import ReduceLROnPlateau\n",
        "LR_function=ReduceLROnPlateau(monitor='val_accuracy',\n",
        "                             patience=3, # Modified LR when val_accuracy not declined within 3 epochs\n",
        "                             verbose=1,\n",
        "                             factor=0.5, # LR reduce to 0.5\n",
        "                             min_lr=0.00001 # This is the minimum LR\n",
        "                             )\n",
        "\n",
        "# We'll use categorical_crossentropy for the loss, and RMSprop as the optimizer\n",
        "model.compile(loss='categorical_crossentropy', optimizer='adam', metrics=['accuracy'])\n",
        "# Epochs 40 batch_size 100 best accuracy 0.99125 -> 0.99203\n",
        "epochs = 40\n",
        "batch_size = 100\n",
        "#history = model.fit_generator(x_train, y_train, epochs=epochs, validation_data=(x_val,y_val), verbose=2, steps_per_epoch=x_train.shape[0] // batch_size)\n",
        "history = model.fit(x_train, y_train, batch_size=batch_size, epochs=epochs, validation_data=(x_val,y_val), verbose=2, callbacks=[LR_function])"
      ],
      "execution_count": null,
      "outputs": [
        {
          "output_type": "stream",
          "name": "stdout",
          "text": [
            "Epoch 1/40\n",
            "378/378 - 19s - loss: 0.2682 - accuracy: 0.9132 - val_loss: 0.0581 - val_accuracy: 0.9807 - lr: 0.0010 - 19s/epoch - 49ms/step\n",
            "Epoch 2/40\n",
            "378/378 - 6s - loss: 0.0832 - accuracy: 0.9734 - val_loss: 0.0522 - val_accuracy: 0.9831 - lr: 0.0010 - 6s/epoch - 16ms/step\n",
            "Epoch 3/40\n",
            "378/378 - 6s - loss: 0.0609 - accuracy: 0.9818 - val_loss: 0.0367 - val_accuracy: 0.9864 - lr: 0.0010 - 6s/epoch - 16ms/step\n",
            "Epoch 4/40\n",
            "378/378 - 6s - loss: 0.0454 - accuracy: 0.9864 - val_loss: 0.0324 - val_accuracy: 0.9912 - lr: 0.0010 - 6s/epoch - 16ms/step\n",
            "Epoch 5/40\n",
            "378/378 - 6s - loss: 0.0421 - accuracy: 0.9869 - val_loss: 0.0301 - val_accuracy: 0.9917 - lr: 0.0010 - 6s/epoch - 16ms/step\n",
            "Epoch 6/40\n",
            "378/378 - 6s - loss: 0.0350 - accuracy: 0.9887 - val_loss: 0.0279 - val_accuracy: 0.9917 - lr: 0.0010 - 6s/epoch - 16ms/step\n",
            "Epoch 7/40\n",
            "378/378 - 6s - loss: 0.0297 - accuracy: 0.9906 - val_loss: 0.0285 - val_accuracy: 0.9917 - lr: 0.0010 - 6s/epoch - 16ms/step\n",
            "Epoch 8/40\n",
            "\n",
            "Epoch 00008: ReduceLROnPlateau reducing learning rate to 0.0005000000237487257.\n",
            "378/378 - 6s - loss: 0.0303 - accuracy: 0.9908 - val_loss: 0.0283 - val_accuracy: 0.9914 - lr: 0.0010 - 6s/epoch - 16ms/step\n",
            "Epoch 9/40\n",
            "378/378 - 6s - loss: 0.0180 - accuracy: 0.9942 - val_loss: 0.0267 - val_accuracy: 0.9921 - lr: 5.0000e-04 - 6s/epoch - 16ms/step\n",
            "Epoch 10/40\n",
            "378/378 - 6s - loss: 0.0146 - accuracy: 0.9954 - val_loss: 0.0261 - val_accuracy: 0.9931 - lr: 5.0000e-04 - 6s/epoch - 16ms/step\n",
            "Epoch 11/40\n",
            "378/378 - 6s - loss: 0.0132 - accuracy: 0.9956 - val_loss: 0.0303 - val_accuracy: 0.9929 - lr: 5.0000e-04 - 6s/epoch - 16ms/step\n",
            "Epoch 12/40\n",
            "378/378 - 6s - loss: 0.0126 - accuracy: 0.9957 - val_loss: 0.0310 - val_accuracy: 0.9926 - lr: 5.0000e-04 - 6s/epoch - 16ms/step\n",
            "Epoch 13/40\n",
            "\n",
            "Epoch 00013: ReduceLROnPlateau reducing learning rate to 0.0002500000118743628.\n",
            "378/378 - 6s - loss: 0.0143 - accuracy: 0.9954 - val_loss: 0.0263 - val_accuracy: 0.9931 - lr: 5.0000e-04 - 6s/epoch - 16ms/step\n",
            "Epoch 14/40\n",
            "378/378 - 6s - loss: 0.0097 - accuracy: 0.9969 - val_loss: 0.0262 - val_accuracy: 0.9931 - lr: 2.5000e-04 - 6s/epoch - 16ms/step\n",
            "Epoch 15/40\n",
            "378/378 - 6s - loss: 0.0082 - accuracy: 0.9970 - val_loss: 0.0266 - val_accuracy: 0.9938 - lr: 2.5000e-04 - 6s/epoch - 16ms/step\n",
            "Epoch 16/40\n",
            "378/378 - 6s - loss: 0.0079 - accuracy: 0.9974 - val_loss: 0.0257 - val_accuracy: 0.9940 - lr: 2.5000e-04 - 6s/epoch - 16ms/step\n",
            "Epoch 17/40\n",
            "378/378 - 6s - loss: 0.0065 - accuracy: 0.9977 - val_loss: 0.0290 - val_accuracy: 0.9936 - lr: 2.5000e-04 - 6s/epoch - 16ms/step\n",
            "Epoch 18/40\n",
            "378/378 - 6s - loss: 0.0066 - accuracy: 0.9978 - val_loss: 0.0302 - val_accuracy: 0.9938 - lr: 2.5000e-04 - 6s/epoch - 16ms/step\n",
            "Epoch 19/40\n",
            "\n",
            "Epoch 00019: ReduceLROnPlateau reducing learning rate to 0.0001250000059371814.\n",
            "378/378 - 6s - loss: 0.0067 - accuracy: 0.9977 - val_loss: 0.0329 - val_accuracy: 0.9933 - lr: 2.5000e-04 - 6s/epoch - 16ms/step\n",
            "Epoch 20/40\n",
            "378/378 - 6s - loss: 0.0051 - accuracy: 0.9979 - val_loss: 0.0299 - val_accuracy: 0.9945 - lr: 1.2500e-04 - 6s/epoch - 16ms/step\n",
            "Epoch 21/40\n",
            "378/378 - 6s - loss: 0.0048 - accuracy: 0.9983 - val_loss: 0.0305 - val_accuracy: 0.9945 - lr: 1.2500e-04 - 6s/epoch - 16ms/step\n",
            "Epoch 22/40\n",
            "378/378 - 6s - loss: 0.0045 - accuracy: 0.9984 - val_loss: 0.0318 - val_accuracy: 0.9938 - lr: 1.2500e-04 - 6s/epoch - 16ms/step\n",
            "Epoch 23/40\n",
            "\n",
            "Epoch 00023: ReduceLROnPlateau reducing learning rate to 6.25000029685907e-05.\n",
            "378/378 - 6s - loss: 0.0040 - accuracy: 0.9987 - val_loss: 0.0313 - val_accuracy: 0.9943 - lr: 1.2500e-04 - 6s/epoch - 16ms/step\n",
            "Epoch 24/40\n",
            "378/378 - 6s - loss: 0.0033 - accuracy: 0.9989 - val_loss: 0.0317 - val_accuracy: 0.9938 - lr: 6.2500e-05 - 6s/epoch - 16ms/step\n",
            "Epoch 25/40\n",
            "378/378 - 6s - loss: 0.0031 - accuracy: 0.9989 - val_loss: 0.0323 - val_accuracy: 0.9948 - lr: 6.2500e-05 - 6s/epoch - 16ms/step\n",
            "Epoch 26/40\n",
            "378/378 - 6s - loss: 0.0034 - accuracy: 0.9988 - val_loss: 0.0296 - val_accuracy: 0.9948 - lr: 6.2500e-05 - 6s/epoch - 16ms/step\n",
            "Epoch 27/40\n",
            "378/378 - 6s - loss: 0.0038 - accuracy: 0.9988 - val_loss: 0.0295 - val_accuracy: 0.9945 - lr: 6.2500e-05 - 6s/epoch - 16ms/step\n",
            "Epoch 28/40\n",
            "\n",
            "Epoch 00028: ReduceLROnPlateau reducing learning rate to 3.125000148429535e-05.\n",
            "378/378 - 6s - loss: 0.0034 - accuracy: 0.9988 - val_loss: 0.0304 - val_accuracy: 0.9943 - lr: 6.2500e-05 - 6s/epoch - 16ms/step\n",
            "Epoch 29/40\n",
            "378/378 - 6s - loss: 0.0031 - accuracy: 0.9987 - val_loss: 0.0312 - val_accuracy: 0.9943 - lr: 3.1250e-05 - 6s/epoch - 16ms/step\n",
            "Epoch 30/40\n",
            "378/378 - 6s - loss: 0.0026 - accuracy: 0.9990 - val_loss: 0.0309 - val_accuracy: 0.9945 - lr: 3.1250e-05 - 6s/epoch - 16ms/step\n",
            "Epoch 31/40\n",
            "\n",
            "Epoch 00031: ReduceLROnPlateau reducing learning rate to 1.5625000742147677e-05.\n",
            "378/378 - 6s - loss: 0.0026 - accuracy: 0.9992 - val_loss: 0.0306 - val_accuracy: 0.9945 - lr: 3.1250e-05 - 6s/epoch - 16ms/step\n",
            "Epoch 32/40\n",
            "378/378 - 6s - loss: 0.0024 - accuracy: 0.9992 - val_loss: 0.0317 - val_accuracy: 0.9945 - lr: 1.5625e-05 - 6s/epoch - 16ms/step\n",
            "Epoch 33/40\n",
            "378/378 - 6s - loss: 0.0028 - accuracy: 0.9990 - val_loss: 0.0321 - val_accuracy: 0.9945 - lr: 1.5625e-05 - 6s/epoch - 16ms/step\n",
            "Epoch 34/40\n",
            "\n",
            "Epoch 00034: ReduceLROnPlateau reducing learning rate to 1e-05.\n",
            "378/378 - 6s - loss: 0.0030 - accuracy: 0.9991 - val_loss: 0.0319 - val_accuracy: 0.9943 - lr: 1.5625e-05 - 6s/epoch - 16ms/step\n",
            "Epoch 35/40\n",
            "378/378 - 6s - loss: 0.0033 - accuracy: 0.9989 - val_loss: 0.0319 - val_accuracy: 0.9945 - lr: 1.0000e-05 - 6s/epoch - 16ms/step\n",
            "Epoch 36/40\n",
            "378/378 - 6s - loss: 0.0021 - accuracy: 0.9993 - val_loss: 0.0315 - val_accuracy: 0.9945 - lr: 1.0000e-05 - 6s/epoch - 16ms/step\n",
            "Epoch 37/40\n",
            "378/378 - 6s - loss: 0.0025 - accuracy: 0.9991 - val_loss: 0.0322 - val_accuracy: 0.9940 - lr: 1.0000e-05 - 6s/epoch - 16ms/step\n",
            "Epoch 38/40\n",
            "378/378 - 6s - loss: 0.0025 - accuracy: 0.9990 - val_loss: 0.0324 - val_accuracy: 0.9943 - lr: 1.0000e-05 - 6s/epoch - 16ms/step\n",
            "Epoch 39/40\n",
            "378/378 - 6s - loss: 0.0022 - accuracy: 0.9992 - val_loss: 0.0331 - val_accuracy: 0.9943 - lr: 1.0000e-05 - 6s/epoch - 16ms/step\n",
            "Epoch 40/40\n",
            "378/378 - 6s - loss: 0.0022 - accuracy: 0.9993 - val_loss: 0.0329 - val_accuracy: 0.9943 - lr: 1.0000e-05 - 6s/epoch - 16ms/step\n"
          ]
        }
      ]
    },
    {
      "cell_type": "code",
      "metadata": {
        "id": "LNTamakqTpkS",
        "colab": {
          "base_uri": "https://localhost:8080/"
        },
        "outputId": "a07f4e2c-9e4b-409a-ba8e-980a41b50b68"
      },
      "source": [
        "# Plot the loss and accuracy curves for training and validation \n",
        "fig, ax = plt.subplots(2,1,figsize=(8,6))\n",
        "ax[0].plot(history.history['loss'], color='b', label=\"Training loss\")\n",
        "ax[0].plot(history.history['val_loss'], color='r', label=\"Validation loss\",axes =ax[0])\n",
        "legend = ax[0].legend(loc='best', shadow=True, fontsize=\"large\") # Set fontsize=\"large\" to avoid the letter t & r  overlap\n",
        "\n",
        "ax[1].plot(history.history['accuracy'], color='b', label=\"Training accuracy\")\n",
        "ax[1].plot(history.history['val_accuracy'], color='r',label=\"Validation accuracy\")\n",
        "legend = ax[1].legend(loc='best', shadow=True, fontsize=\"large\") # Set fontsize=\"large\" to avoid the letter t & r  overlap"
      ],
      "execution_count": null,
      "outputs": [
        {
          "output_type": "display_data",
          "data": {
            "image/png": "[encoded data removed]",
            "text/plain": [
              "<Figure size 576x432 with 2 Axes>"
            ]
          },
          "metadata": {
            "needs_background": "light"
          }
        }
      ]
    },
    {
      "cell_type": "code",
      "metadata": {
        "id": "j3oUgtNX8Gnj",
        "colab": {
          "base_uri": "https://localhost:8080/"
        },
        "outputId": "4e7ecd69-a26b-4662-e291-c002d8dad0ee"
      },
      "source": [
        "# predict results\n",
        "results = model.predict(test)\n",
        "print(results)\n",
        "# select the indix with the maximum probability\n",
        "results = np.argmax(results,axis = 1)\n",
        "print(results)\n",
        "results = pd.Series(results,name=\"Label\")\n",
        "\n",
        "submission = pd.concat([pd.Series(range(1,28001),name = \"ImageId\"),results],axis = 1)\n",
        "print(submission)\n",
        "submission.to_csv(\"cnn_mnist_datagen.csv\",index=False)"
      ],
      "execution_count": null,
      "outputs": [
        {
          "output_type": "stream",
          "name": "stdout",
          "text": [
            "[[1.5718191e-20 8.3045767e-21 1.0000000e+00 ... 1.0292098e-19\n",
            "  3.1482590e-17 4.7670257e-21]\n",
            " [1.0000000e+00 4.4004441e-21 5.2829540e-16 ... 1.1161638e-15\n",
            "  6.1945174e-17 6.5159243e-14]\n",
            " [2.7682714e-22 1.9218300e-16 5.2533719e-16 ... 2.8023022e-15\n",
            "  1.8651745e-10 1.0000000e+00]\n",
            " ...\n",
            " [4.2599802e-30 7.5782639e-22 4.5324043e-24 ... 1.1868212e-18\n",
            "  3.5240738e-21 2.1519923e-18]\n",
            " [6.8122797e-17 1.7083144e-15 2.3955100e-15 ... 1.3258237e-11\n",
            "  2.8429416e-12 9.9999988e-01]\n",
            " [1.1251280e-23 3.1275427e-22 1.0000000e+00 ... 2.4105785e-24\n",
            "  4.5449755e-16 1.6719478e-21]]\n",
            "[2 0 9 ... 3 9 2]\n",
            "       ImageId  Label\n",
            "0            1      2\n",
            "1            2      0\n",
            "2            3      9\n",
            "3            4      0\n",
            "4            5      3\n",
            "...        ...    ...\n",
            "27995    27996      9\n",
            "27996    27997      7\n",
            "27997    27998      3\n",
            "27998    27999      9\n",
            "27999    28000      2\n",
            "\n",
            "[28000 rows x 2 columns]\n"
          ]
        }
      ]
    }
  ]
}