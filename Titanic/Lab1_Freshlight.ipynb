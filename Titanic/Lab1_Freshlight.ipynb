{
  "nbformat": 4,
  "nbformat_minor": 0,
  "metadata": {
    "colab": {
      "name": "Lab1_Freshlight.ipynb",
      "provenance": [],
      "collapsed_sections": []
    },
    "kernelspec": {
      "name": "python3",
      "display_name": "Python 3"
    },
    "language_info": {
      "name": "python"
    }
  },
  "cells": [
    {
      "cell_type": "markdown",
      "metadata": {
        "id": "JMDSICPLN6Ri"
      },
      "source": [
        "# Import Library & Read CSV & Data Analysis"
      ]
    },
    {
      "cell_type": "code",
      "metadata": {
        "colab": {
          "base_uri": "https://localhost:8080/"
        },
        "id": "BHHNMIT9cWVL",
        "outputId": "850c4046-798c-400e-b170-c7d8585dfc82"
      },
      "source": [
        "from google.colab import drive\n",
        "drive.mount('/content/drive')"
      ],
      "execution_count": null,
      "outputs": [
        {
          "output_type": "stream",
          "name": "stdout",
          "text": [
            "Drive already mounted at /content/drive; to attempt to forcibly remount, call drive.mount(\"/content/drive\", force_remount=True).\n"
          ]
        }
      ]
    },
    {
      "cell_type": "code",
      "metadata": {
        "colab": {
          "base_uri": "https://localhost:8080/",
          "height": 450
        },
        "id": "njgb3uprW9-p",
        "outputId": "121abb63-7f75-48f8-9207-771dd4ea1612"
      },
      "source": [
        "import csv\n",
        "import pandas as pd\n",
        "import numpy as np\n",
        "import matplotlib.pyplot as plt\n",
        "import seaborn as sns\n",
        "# First replace the id with the PassengerId \n",
        "gender_submission = pd.read_csv('/content/drive/MyDrive/Colab Notebooks/gender_submission.csv', index_col= ['PassengerId'])\n",
        "\n",
        "# Load the train, test, gender_submission file to dataframes\n",
        "train = pd.read_csv('/content/drive/MyDrive/Colab Notebooks/train.csv', index_col= ['PassengerId'])\n",
        "test = pd.read_csv('/content/drive/MyDrive/Colab Notebooks/test.csv',  index_col= ['PassengerId'])\n",
        "gender_submission  # This is sample that all woman are survied, and all man are unsurvived"
      ],
      "execution_count": null,
      "outputs": [
        {
          "output_type": "execute_result",
          "data": {
            "text/html": [
              "<div>\n",
              "<style scoped>\n",
              "    .dataframe tbody tr th:only-of-type {\n",
              "        vertical-align: middle;\n",
              "    }\n",
              "\n",
              "    .dataframe tbody tr th {\n",
              "        vertical-align: top;\n",
              "    }\n",
              "\n",
              "    .dataframe thead th {\n",
              "        text-align: right;\n",
              "    }\n",
              "</style>\n",
              "<table border=\"1\" class=\"dataframe\">\n",
              "  <thead>\n",
              "    <tr style=\"text-align: right;\">\n",
              "      <th></th>\n",
              "      <th>Survived</th>\n",
              "    </tr>\n",
              "    <tr>\n",
              "      <th>PassengerId</th>\n",
              "      <th></th>\n",
              "    </tr>\n",
              "  </thead>\n",
              "  <tbody>\n",
              "    <tr>\n",
              "      <th>892</th>\n",
              "      <td>0</td>\n",
              "    </tr>\n",
              "    <tr>\n",
              "      <th>893</th>\n",
              "      <td>1</td>\n",
              "    </tr>\n",
              "    <tr>\n",
              "      <th>894</th>\n",
              "      <td>0</td>\n",
              "    </tr>\n",
              "    <tr>\n",
              "      <th>895</th>\n",
              "      <td>0</td>\n",
              "    </tr>\n",
              "    <tr>\n",
              "      <th>896</th>\n",
              "      <td>1</td>\n",
              "    </tr>\n",
              "    <tr>\n",
              "      <th>...</th>\n",
              "      <td>...</td>\n",
              "    </tr>\n",
              "    <tr>\n",
              "      <th>1305</th>\n",
              "      <td>0</td>\n",
              "    </tr>\n",
              "    <tr>\n",
              "      <th>1306</th>\n",
              "      <td>1</td>\n",
              "    </tr>\n",
              "    <tr>\n",
              "      <th>1307</th>\n",
              "      <td>0</td>\n",
              "    </tr>\n",
              "    <tr>\n",
              "      <th>1308</th>\n",
              "      <td>0</td>\n",
              "    </tr>\n",
              "    <tr>\n",
              "      <th>1309</th>\n",
              "      <td>0</td>\n",
              "    </tr>\n",
              "  </tbody>\n",
              "</table>\n",
              "<p>418 rows × 1 columns</p>\n",
              "</div>"
            ],
            "text/plain": [
              "             Survived\n",
              "PassengerId          \n",
              "892                 0\n",
              "893                 1\n",
              "894                 0\n",
              "895                 0\n",
              "896                 1\n",
              "...               ...\n",
              "1305                0\n",
              "1306                1\n",
              "1307                0\n",
              "1308                0\n",
              "1309                0\n",
              "\n",
              "[418 rows x 1 columns]"
            ]
          },
          "metadata": {},
          "execution_count": 49
        }
      ]
    },
    {
      "cell_type": "code",
      "metadata": {
        "id": "bsE-rU7MqLlJ",
        "colab": {
          "base_uri": "https://localhost:8080/",
          "height": 545
        },
        "outputId": "3cec4fdb-8435-4686-9d87-d11ac5f5a3b4"
      },
      "source": [
        "train.head(15) #Training Data (Pclass => Ticket Class; SibSp => Siblings, Spouses; Parch => Parents, Children; Embarked => Port)"
      ],
      "execution_count": null,
      "outputs": [
        {
          "output_type": "execute_result",
          "data": {
            "text/html": [
              "<div>\n",
              "<style scoped>\n",
              "    .dataframe tbody tr th:only-of-type {\n",
              "        vertical-align: middle;\n",
              "    }\n",
              "\n",
              "    .dataframe tbody tr th {\n",
              "        vertical-align: top;\n",
              "    }\n",
              "\n",
              "    .dataframe thead th {\n",
              "        text-align: right;\n",
              "    }\n",
              "</style>\n",
              "<table border=\"1\" class=\"dataframe\">\n",
              "  <thead>\n",
              "    <tr style=\"text-align: right;\">\n",
              "      <th></th>\n",
              "      <th>Survived</th>\n",
              "      <th>Pclass</th>\n",
              "      <th>Name</th>\n",
              "      <th>Sex</th>\n",
              "      <th>Age</th>\n",
              "      <th>SibSp</th>\n",
              "      <th>Parch</th>\n",
              "      <th>Ticket</th>\n",
              "      <th>Fare</th>\n",
              "      <th>Cabin</th>\n",
              "      <th>Embarked</th>\n",
              "    </tr>\n",
              "    <tr>\n",
              "      <th>PassengerId</th>\n",
              "      <th></th>\n",
              "      <th></th>\n",
              "      <th></th>\n",
              "      <th></th>\n",
              "      <th></th>\n",
              "      <th></th>\n",
              "      <th></th>\n",
              "      <th></th>\n",
              "      <th></th>\n",
              "      <th></th>\n",
              "      <th></th>\n",
              "    </tr>\n",
              "  </thead>\n",
              "  <tbody>\n",
              "    <tr>\n",
              "      <th>1</th>\n",
              "      <td>0</td>\n",
              "      <td>3</td>\n",
              "      <td>Braund, Mr. Owen Harris</td>\n",
              "      <td>male</td>\n",
              "      <td>22.0</td>\n",
              "      <td>1</td>\n",
              "      <td>0</td>\n",
              "      <td>A/5 21171</td>\n",
              "      <td>7.2500</td>\n",
              "      <td>NaN</td>\n",
              "      <td>S</td>\n",
              "    </tr>\n",
              "    <tr>\n",
              "      <th>2</th>\n",
              "      <td>1</td>\n",
              "      <td>1</td>\n",
              "      <td>Cumings, Mrs. John Bradley (Florence Briggs Th...</td>\n",
              "      <td>female</td>\n",
              "      <td>38.0</td>\n",
              "      <td>1</td>\n",
              "      <td>0</td>\n",
              "      <td>PC 17599</td>\n",
              "      <td>71.2833</td>\n",
              "      <td>C85</td>\n",
              "      <td>C</td>\n",
              "    </tr>\n",
              "    <tr>\n",
              "      <th>3</th>\n",
              "      <td>1</td>\n",
              "      <td>3</td>\n",
              "      <td>Heikkinen, Miss. Laina</td>\n",
              "      <td>female</td>\n",
              "      <td>26.0</td>\n",
              "      <td>0</td>\n",
              "      <td>0</td>\n",
              "      <td>STON/O2. 3101282</td>\n",
              "      <td>7.9250</td>\n",
              "      <td>NaN</td>\n",
              "      <td>S</td>\n",
              "    </tr>\n",
              "    <tr>\n",
              "      <th>4</th>\n",
              "      <td>1</td>\n",
              "      <td>1</td>\n",
              "      <td>Futrelle, Mrs. Jacques Heath (Lily May Peel)</td>\n",
              "      <td>female</td>\n",
              "      <td>35.0</td>\n",
              "      <td>1</td>\n",
              "      <td>0</td>\n",
              "      <td>113803</td>\n",
              "      <td>53.1000</td>\n",
              "      <td>C123</td>\n",
              "      <td>S</td>\n",
              "    </tr>\n",
              "    <tr>\n",
              "      <th>5</th>\n",
              "      <td>0</td>\n",
              "      <td>3</td>\n",
              "      <td>Allen, Mr. William Henry</td>\n",
              "      <td>male</td>\n",
              "      <td>35.0</td>\n",
              "      <td>0</td>\n",
              "      <td>0</td>\n",
              "      <td>373450</td>\n",
              "      <td>8.0500</td>\n",
              "      <td>NaN</td>\n",
              "      <td>S</td>\n",
              "    </tr>\n",
              "    <tr>\n",
              "      <th>6</th>\n",
              "      <td>0</td>\n",
              "      <td>3</td>\n",
              "      <td>Moran, Mr. James</td>\n",
              "      <td>male</td>\n",
              "      <td>NaN</td>\n",
              "      <td>0</td>\n",
              "      <td>0</td>\n",
              "      <td>330877</td>\n",
              "      <td>8.4583</td>\n",
              "      <td>NaN</td>\n",
              "      <td>Q</td>\n",
              "    </tr>\n",
              "    <tr>\n",
              "      <th>7</th>\n",
              "      <td>0</td>\n",
              "      <td>1</td>\n",
              "      <td>McCarthy, Mr. Timothy J</td>\n",
              "      <td>male</td>\n",
              "      <td>54.0</td>\n",
              "      <td>0</td>\n",
              "      <td>0</td>\n",
              "      <td>17463</td>\n",
              "      <td>51.8625</td>\n",
              "      <td>E46</td>\n",
              "      <td>S</td>\n",
              "    </tr>\n",
              "    <tr>\n",
              "      <th>8</th>\n",
              "      <td>0</td>\n",
              "      <td>3</td>\n",
              "      <td>Palsson, Master. Gosta Leonard</td>\n",
              "      <td>male</td>\n",
              "      <td>2.0</td>\n",
              "      <td>3</td>\n",
              "      <td>1</td>\n",
              "      <td>349909</td>\n",
              "      <td>21.0750</td>\n",
              "      <td>NaN</td>\n",
              "      <td>S</td>\n",
              "    </tr>\n",
              "    <tr>\n",
              "      <th>9</th>\n",
              "      <td>1</td>\n",
              "      <td>3</td>\n",
              "      <td>Johnson, Mrs. Oscar W (Elisabeth Vilhelmina Berg)</td>\n",
              "      <td>female</td>\n",
              "      <td>27.0</td>\n",
              "      <td>0</td>\n",
              "      <td>2</td>\n",
              "      <td>347742</td>\n",
              "      <td>11.1333</td>\n",
              "      <td>NaN</td>\n",
              "      <td>S</td>\n",
              "    </tr>\n",
              "    <tr>\n",
              "      <th>10</th>\n",
              "      <td>1</td>\n",
              "      <td>2</td>\n",
              "      <td>Nasser, Mrs. Nicholas (Adele Achem)</td>\n",
              "      <td>female</td>\n",
              "      <td>14.0</td>\n",
              "      <td>1</td>\n",
              "      <td>0</td>\n",
              "      <td>237736</td>\n",
              "      <td>30.0708</td>\n",
              "      <td>NaN</td>\n",
              "      <td>C</td>\n",
              "    </tr>\n",
              "    <tr>\n",
              "      <th>11</th>\n",
              "      <td>1</td>\n",
              "      <td>3</td>\n",
              "      <td>Sandstrom, Miss. Marguerite Rut</td>\n",
              "      <td>female</td>\n",
              "      <td>4.0</td>\n",
              "      <td>1</td>\n",
              "      <td>1</td>\n",
              "      <td>PP 9549</td>\n",
              "      <td>16.7000</td>\n",
              "      <td>G6</td>\n",
              "      <td>S</td>\n",
              "    </tr>\n",
              "    <tr>\n",
              "      <th>12</th>\n",
              "      <td>1</td>\n",
              "      <td>1</td>\n",
              "      <td>Bonnell, Miss. Elizabeth</td>\n",
              "      <td>female</td>\n",
              "      <td>58.0</td>\n",
              "      <td>0</td>\n",
              "      <td>0</td>\n",
              "      <td>113783</td>\n",
              "      <td>26.5500</td>\n",
              "      <td>C103</td>\n",
              "      <td>S</td>\n",
              "    </tr>\n",
              "    <tr>\n",
              "      <th>13</th>\n",
              "      <td>0</td>\n",
              "      <td>3</td>\n",
              "      <td>Saundercock, Mr. William Henry</td>\n",
              "      <td>male</td>\n",
              "      <td>20.0</td>\n",
              "      <td>0</td>\n",
              "      <td>0</td>\n",
              "      <td>A/5. 2151</td>\n",
              "      <td>8.0500</td>\n",
              "      <td>NaN</td>\n",
              "      <td>S</td>\n",
              "    </tr>\n",
              "    <tr>\n",
              "      <th>14</th>\n",
              "      <td>0</td>\n",
              "      <td>3</td>\n",
              "      <td>Andersson, Mr. Anders Johan</td>\n",
              "      <td>male</td>\n",
              "      <td>39.0</td>\n",
              "      <td>1</td>\n",
              "      <td>5</td>\n",
              "      <td>347082</td>\n",
              "      <td>31.2750</td>\n",
              "      <td>NaN</td>\n",
              "      <td>S</td>\n",
              "    </tr>\n",
              "    <tr>\n",
              "      <th>15</th>\n",
              "      <td>0</td>\n",
              "      <td>3</td>\n",
              "      <td>Vestrom, Miss. Hulda Amanda Adolfina</td>\n",
              "      <td>female</td>\n",
              "      <td>14.0</td>\n",
              "      <td>0</td>\n",
              "      <td>0</td>\n",
              "      <td>350406</td>\n",
              "      <td>7.8542</td>\n",
              "      <td>NaN</td>\n",
              "      <td>S</td>\n",
              "    </tr>\n",
              "  </tbody>\n",
              "</table>\n",
              "</div>"
            ],
            "text/plain": [
              "             Survived  Pclass  ... Cabin Embarked\n",
              "PassengerId                    ...               \n",
              "1                   0       3  ...   NaN        S\n",
              "2                   1       1  ...   C85        C\n",
              "3                   1       3  ...   NaN        S\n",
              "4                   1       1  ...  C123        S\n",
              "5                   0       3  ...   NaN        S\n",
              "6                   0       3  ...   NaN        Q\n",
              "7                   0       1  ...   E46        S\n",
              "8                   0       3  ...   NaN        S\n",
              "9                   1       3  ...   NaN        S\n",
              "10                  1       2  ...   NaN        C\n",
              "11                  1       3  ...    G6        S\n",
              "12                  1       1  ...  C103        S\n",
              "13                  0       3  ...   NaN        S\n",
              "14                  0       3  ...   NaN        S\n",
              "15                  0       3  ...   NaN        S\n",
              "\n",
              "[15 rows x 11 columns]"
            ]
          },
          "metadata": {},
          "execution_count": 50
        }
      ]
    },
    {
      "cell_type": "code",
      "metadata": {
        "id": "kWkme1NXqeQX",
        "colab": {
          "base_uri": "https://localhost:8080/",
          "height": 450
        },
        "outputId": "50cb579b-5244-459c-84e1-4612e8f3d1f7"
      },
      "source": [
        "test #Data without Survived Column"
      ],
      "execution_count": null,
      "outputs": [
        {
          "output_type": "execute_result",
          "data": {
            "text/html": [
              "<div>\n",
              "<style scoped>\n",
              "    .dataframe tbody tr th:only-of-type {\n",
              "        vertical-align: middle;\n",
              "    }\n",
              "\n",
              "    .dataframe tbody tr th {\n",
              "        vertical-align: top;\n",
              "    }\n",
              "\n",
              "    .dataframe thead th {\n",
              "        text-align: right;\n",
              "    }\n",
              "</style>\n",
              "<table border=\"1\" class=\"dataframe\">\n",
              "  <thead>\n",
              "    <tr style=\"text-align: right;\">\n",
              "      <th></th>\n",
              "      <th>Pclass</th>\n",
              "      <th>Name</th>\n",
              "      <th>Sex</th>\n",
              "      <th>Age</th>\n",
              "      <th>SibSp</th>\n",
              "      <th>Parch</th>\n",
              "      <th>Ticket</th>\n",
              "      <th>Fare</th>\n",
              "      <th>Cabin</th>\n",
              "      <th>Embarked</th>\n",
              "    </tr>\n",
              "    <tr>\n",
              "      <th>PassengerId</th>\n",
              "      <th></th>\n",
              "      <th></th>\n",
              "      <th></th>\n",
              "      <th></th>\n",
              "      <th></th>\n",
              "      <th></th>\n",
              "      <th></th>\n",
              "      <th></th>\n",
              "      <th></th>\n",
              "      <th></th>\n",
              "    </tr>\n",
              "  </thead>\n",
              "  <tbody>\n",
              "    <tr>\n",
              "      <th>892</th>\n",
              "      <td>3</td>\n",
              "      <td>Kelly, Mr. James</td>\n",
              "      <td>male</td>\n",
              "      <td>34.5</td>\n",
              "      <td>0</td>\n",
              "      <td>0</td>\n",
              "      <td>330911</td>\n",
              "      <td>7.8292</td>\n",
              "      <td>NaN</td>\n",
              "      <td>Q</td>\n",
              "    </tr>\n",
              "    <tr>\n",
              "      <th>893</th>\n",
              "      <td>3</td>\n",
              "      <td>Wilkes, Mrs. James (Ellen Needs)</td>\n",
              "      <td>female</td>\n",
              "      <td>47.0</td>\n",
              "      <td>1</td>\n",
              "      <td>0</td>\n",
              "      <td>363272</td>\n",
              "      <td>7.0000</td>\n",
              "      <td>NaN</td>\n",
              "      <td>S</td>\n",
              "    </tr>\n",
              "    <tr>\n",
              "      <th>894</th>\n",
              "      <td>2</td>\n",
              "      <td>Myles, Mr. Thomas Francis</td>\n",
              "      <td>male</td>\n",
              "      <td>62.0</td>\n",
              "      <td>0</td>\n",
              "      <td>0</td>\n",
              "      <td>240276</td>\n",
              "      <td>9.6875</td>\n",
              "      <td>NaN</td>\n",
              "      <td>Q</td>\n",
              "    </tr>\n",
              "    <tr>\n",
              "      <th>895</th>\n",
              "      <td>3</td>\n",
              "      <td>Wirz, Mr. Albert</td>\n",
              "      <td>male</td>\n",
              "      <td>27.0</td>\n",
              "      <td>0</td>\n",
              "      <td>0</td>\n",
              "      <td>315154</td>\n",
              "      <td>8.6625</td>\n",
              "      <td>NaN</td>\n",
              "      <td>S</td>\n",
              "    </tr>\n",
              "    <tr>\n",
              "      <th>896</th>\n",
              "      <td>3</td>\n",
              "      <td>Hirvonen, Mrs. Alexander (Helga E Lindqvist)</td>\n",
              "      <td>female</td>\n",
              "      <td>22.0</td>\n",
              "      <td>1</td>\n",
              "      <td>1</td>\n",
              "      <td>3101298</td>\n",
              "      <td>12.2875</td>\n",
              "      <td>NaN</td>\n",
              "      <td>S</td>\n",
              "    </tr>\n",
              "    <tr>\n",
              "      <th>...</th>\n",
              "      <td>...</td>\n",
              "      <td>...</td>\n",
              "      <td>...</td>\n",
              "      <td>...</td>\n",
              "      <td>...</td>\n",
              "      <td>...</td>\n",
              "      <td>...</td>\n",
              "      <td>...</td>\n",
              "      <td>...</td>\n",
              "      <td>...</td>\n",
              "    </tr>\n",
              "    <tr>\n",
              "      <th>1305</th>\n",
              "      <td>3</td>\n",
              "      <td>Spector, Mr. Woolf</td>\n",
              "      <td>male</td>\n",
              "      <td>NaN</td>\n",
              "      <td>0</td>\n",
              "      <td>0</td>\n",
              "      <td>A.5. 3236</td>\n",
              "      <td>8.0500</td>\n",
              "      <td>NaN</td>\n",
              "      <td>S</td>\n",
              "    </tr>\n",
              "    <tr>\n",
              "      <th>1306</th>\n",
              "      <td>1</td>\n",
              "      <td>Oliva y Ocana, Dona. Fermina</td>\n",
              "      <td>female</td>\n",
              "      <td>39.0</td>\n",
              "      <td>0</td>\n",
              "      <td>0</td>\n",
              "      <td>PC 17758</td>\n",
              "      <td>108.9000</td>\n",
              "      <td>C105</td>\n",
              "      <td>C</td>\n",
              "    </tr>\n",
              "    <tr>\n",
              "      <th>1307</th>\n",
              "      <td>3</td>\n",
              "      <td>Saether, Mr. Simon Sivertsen</td>\n",
              "      <td>male</td>\n",
              "      <td>38.5</td>\n",
              "      <td>0</td>\n",
              "      <td>0</td>\n",
              "      <td>SOTON/O.Q. 3101262</td>\n",
              "      <td>7.2500</td>\n",
              "      <td>NaN</td>\n",
              "      <td>S</td>\n",
              "    </tr>\n",
              "    <tr>\n",
              "      <th>1308</th>\n",
              "      <td>3</td>\n",
              "      <td>Ware, Mr. Frederick</td>\n",
              "      <td>male</td>\n",
              "      <td>NaN</td>\n",
              "      <td>0</td>\n",
              "      <td>0</td>\n",
              "      <td>359309</td>\n",
              "      <td>8.0500</td>\n",
              "      <td>NaN</td>\n",
              "      <td>S</td>\n",
              "    </tr>\n",
              "    <tr>\n",
              "      <th>1309</th>\n",
              "      <td>3</td>\n",
              "      <td>Peter, Master. Michael J</td>\n",
              "      <td>male</td>\n",
              "      <td>NaN</td>\n",
              "      <td>1</td>\n",
              "      <td>1</td>\n",
              "      <td>2668</td>\n",
              "      <td>22.3583</td>\n",
              "      <td>NaN</td>\n",
              "      <td>C</td>\n",
              "    </tr>\n",
              "  </tbody>\n",
              "</table>\n",
              "<p>418 rows × 10 columns</p>\n",
              "</div>"
            ],
            "text/plain": [
              "             Pclass  ... Embarked\n",
              "PassengerId          ...         \n",
              "892               3  ...        Q\n",
              "893               3  ...        S\n",
              "894               2  ...        Q\n",
              "895               3  ...        S\n",
              "896               3  ...        S\n",
              "...             ...  ...      ...\n",
              "1305              3  ...        S\n",
              "1306              1  ...        C\n",
              "1307              3  ...        S\n",
              "1308              3  ...        S\n",
              "1309              3  ...        C\n",
              "\n",
              "[418 rows x 10 columns]"
            ]
          },
          "metadata": {},
          "execution_count": 51
        }
      ]
    },
    {
      "cell_type": "code",
      "metadata": {
        "id": "pMTLFHny3Ppj",
        "colab": {
          "base_uri": "https://localhost:8080/",
          "height": 297
        },
        "outputId": "fd87577b-d242-42ed-baee-5401624c0cfc"
      },
      "source": [
        "desc = train.describe()\n",
        "desc.loc['count'] = desc.loc['count'].astype(int) #let type(count) = int\n",
        "desc.iloc[1:] = desc.iloc[1:].applymap('{:.2f}'.format) # set float to the second digit after the decimal point\n",
        "desc #There are only 38% people survived"
      ],
      "execution_count": null,
      "outputs": [
        {
          "output_type": "execute_result",
          "data": {
            "text/html": [
              "<div>\n",
              "<style scoped>\n",
              "    .dataframe tbody tr th:only-of-type {\n",
              "        vertical-align: middle;\n",
              "    }\n",
              "\n",
              "    .dataframe tbody tr th {\n",
              "        vertical-align: top;\n",
              "    }\n",
              "\n",
              "    .dataframe thead th {\n",
              "        text-align: right;\n",
              "    }\n",
              "</style>\n",
              "<table border=\"1\" class=\"dataframe\">\n",
              "  <thead>\n",
              "    <tr style=\"text-align: right;\">\n",
              "      <th></th>\n",
              "      <th>Survived</th>\n",
              "      <th>Pclass</th>\n",
              "      <th>Age</th>\n",
              "      <th>SibSp</th>\n",
              "      <th>Parch</th>\n",
              "      <th>Fare</th>\n",
              "    </tr>\n",
              "  </thead>\n",
              "  <tbody>\n",
              "    <tr>\n",
              "      <th>count</th>\n",
              "      <td>891</td>\n",
              "      <td>891</td>\n",
              "      <td>714</td>\n",
              "      <td>891</td>\n",
              "      <td>891</td>\n",
              "      <td>891</td>\n",
              "    </tr>\n",
              "    <tr>\n",
              "      <th>mean</th>\n",
              "      <td>0.38</td>\n",
              "      <td>2.31</td>\n",
              "      <td>29.70</td>\n",
              "      <td>0.52</td>\n",
              "      <td>0.38</td>\n",
              "      <td>32.20</td>\n",
              "    </tr>\n",
              "    <tr>\n",
              "      <th>std</th>\n",
              "      <td>0.49</td>\n",
              "      <td>0.84</td>\n",
              "      <td>14.53</td>\n",
              "      <td>1.10</td>\n",
              "      <td>0.81</td>\n",
              "      <td>49.69</td>\n",
              "    </tr>\n",
              "    <tr>\n",
              "      <th>min</th>\n",
              "      <td>0.00</td>\n",
              "      <td>1.00</td>\n",
              "      <td>0.42</td>\n",
              "      <td>0.00</td>\n",
              "      <td>0.00</td>\n",
              "      <td>0.00</td>\n",
              "    </tr>\n",
              "    <tr>\n",
              "      <th>25%</th>\n",
              "      <td>0.00</td>\n",
              "      <td>2.00</td>\n",
              "      <td>20.12</td>\n",
              "      <td>0.00</td>\n",
              "      <td>0.00</td>\n",
              "      <td>7.91</td>\n",
              "    </tr>\n",
              "    <tr>\n",
              "      <th>50%</th>\n",
              "      <td>0.00</td>\n",
              "      <td>3.00</td>\n",
              "      <td>28.00</td>\n",
              "      <td>0.00</td>\n",
              "      <td>0.00</td>\n",
              "      <td>14.45</td>\n",
              "    </tr>\n",
              "    <tr>\n",
              "      <th>75%</th>\n",
              "      <td>1.00</td>\n",
              "      <td>3.00</td>\n",
              "      <td>38.00</td>\n",
              "      <td>1.00</td>\n",
              "      <td>0.00</td>\n",
              "      <td>31.00</td>\n",
              "    </tr>\n",
              "    <tr>\n",
              "      <th>max</th>\n",
              "      <td>1.00</td>\n",
              "      <td>3.00</td>\n",
              "      <td>80.00</td>\n",
              "      <td>8.00</td>\n",
              "      <td>6.00</td>\n",
              "      <td>512.33</td>\n",
              "    </tr>\n",
              "  </tbody>\n",
              "</table>\n",
              "</div>"
            ],
            "text/plain": [
              "      Survived Pclass    Age SibSp Parch    Fare\n",
              "count      891    891    714   891   891     891\n",
              "mean      0.38   2.31  29.70  0.52  0.38   32.20\n",
              "std       0.49   0.84  14.53  1.10  0.81   49.69\n",
              "min       0.00   1.00   0.42  0.00  0.00    0.00\n",
              "25%       0.00   2.00  20.12  0.00  0.00    7.91\n",
              "50%       0.00   3.00  28.00  0.00  0.00   14.45\n",
              "75%       1.00   3.00  38.00  1.00  0.00   31.00\n",
              "max       1.00   3.00  80.00  8.00  6.00  512.33"
            ]
          },
          "metadata": {},
          "execution_count": 52
        }
      ]
    },
    {
      "cell_type": "code",
      "metadata": {
        "id": "VC8-f-jz4MUP",
        "colab": {
          "base_uri": "https://localhost:8080/"
        },
        "outputId": "22bc0a43-8511-48e9-cedd-68376400d4e4"
      },
      "source": [
        "unique, count= np.unique(train[\"Survived\"], return_counts=True) # Results: unique = [0, 1], count = [549, 342]\n",
        "print(\"Died : %s, Survived : %s \" % (count[0], count[1]))\n",
        "print(\"Total Passengers in Training : %s, All kinds of features : %s\" % (train.shape[0], train.shape[1]))\n",
        "train_na = train.isna().sum() # Check whether row data in train have a null value or not\n",
        "train_na[lambda x: x != 0] # Missing info in some Training data, so we're gonna predict the info."
      ],
      "execution_count": null,
      "outputs": [
        {
          "output_type": "stream",
          "name": "stdout",
          "text": [
            "Died : 549, Survived : 342 \n",
            "Total Passengers in Training : 891, All kinds of features : 11\n"
          ]
        },
        {
          "output_type": "execute_result",
          "data": {
            "text/plain": [
              "Age         177\n",
              "Cabin       687\n",
              "Embarked      2\n",
              "dtype: int64"
            ]
          },
          "metadata": {},
          "execution_count": 53
        }
      ]
    },
    {
      "cell_type": "code",
      "metadata": {
        "id": "ZMY0ONNg_0B2",
        "colab": {
          "base_uri": "https://localhost:8080/",
          "height": 803
        },
        "outputId": "f0ebabee-f604-49da-a39e-e602ef5f4354"
      },
      "source": [
        "f, ax = plt.subplots(1,2,figsize=(10, 8))\n",
        "# Using matplotlib library\n",
        "ax[0].matshow(train.corr())\n",
        "\n",
        "# Using seaborn library\n",
        "sns.heatmap(train.corr(), mask=np.zeros_like(train.corr(), dtype=np.bool), cmap=sns.diverging_palette(220, 10, as_cmap=True),square=True, ax=ax[1])\n",
        "\n",
        "plt.tight_layout()\n",
        "plt.show()\n",
        "# We can see that there is a negative correlation between Pclass & fare \n",
        "train.corr()"
      ],
      "execution_count": null,
      "outputs": [
        {
          "output_type": "display_data",
          "data": {
            "image/png": "[encoded data removed]",
            "text/plain": [
              "<Figure size 720x576 with 3 Axes>"
            ]
          },
          "metadata": {
            "needs_background": "light"
          }
        },
        {
          "output_type": "execute_result",
          "data": {
            "text/html": [
              "<div>\n",
              "<style scoped>\n",
              "    .dataframe tbody tr th:only-of-type {\n",
              "        vertical-align: middle;\n",
              "    }\n",
              "\n",
              "    .dataframe tbody tr th {\n",
              "        vertical-align: top;\n",
              "    }\n",
              "\n",
              "    .dataframe thead th {\n",
              "        text-align: right;\n",
              "    }\n",
              "</style>\n",
              "<table border=\"1\" class=\"dataframe\">\n",
              "  <thead>\n",
              "    <tr style=\"text-align: right;\">\n",
              "      <th></th>\n",
              "      <th>Survived</th>\n",
              "      <th>Pclass</th>\n",
              "      <th>Age</th>\n",
              "      <th>SibSp</th>\n",
              "      <th>Parch</th>\n",
              "      <th>Fare</th>\n",
              "    </tr>\n",
              "  </thead>\n",
              "  <tbody>\n",
              "    <tr>\n",
              "      <th>Survived</th>\n",
              "      <td>1.000000</td>\n",
              "      <td>-0.338481</td>\n",
              "      <td>-0.077221</td>\n",
              "      <td>-0.035322</td>\n",
              "      <td>0.081629</td>\n",
              "      <td>0.257307</td>\n",
              "    </tr>\n",
              "    <tr>\n",
              "      <th>Pclass</th>\n",
              "      <td>-0.338481</td>\n",
              "      <td>1.000000</td>\n",
              "      <td>-0.369226</td>\n",
              "      <td>0.083081</td>\n",
              "      <td>0.018443</td>\n",
              "      <td>-0.549500</td>\n",
              "    </tr>\n",
              "    <tr>\n",
              "      <th>Age</th>\n",
              "      <td>-0.077221</td>\n",
              "      <td>-0.369226</td>\n",
              "      <td>1.000000</td>\n",
              "      <td>-0.308247</td>\n",
              "      <td>-0.189119</td>\n",
              "      <td>0.096067</td>\n",
              "    </tr>\n",
              "    <tr>\n",
              "      <th>SibSp</th>\n",
              "      <td>-0.035322</td>\n",
              "      <td>0.083081</td>\n",
              "      <td>-0.308247</td>\n",
              "      <td>1.000000</td>\n",
              "      <td>0.414838</td>\n",
              "      <td>0.159651</td>\n",
              "    </tr>\n",
              "    <tr>\n",
              "      <th>Parch</th>\n",
              "      <td>0.081629</td>\n",
              "      <td>0.018443</td>\n",
              "      <td>-0.189119</td>\n",
              "      <td>0.414838</td>\n",
              "      <td>1.000000</td>\n",
              "      <td>0.216225</td>\n",
              "    </tr>\n",
              "    <tr>\n",
              "      <th>Fare</th>\n",
              "      <td>0.257307</td>\n",
              "      <td>-0.549500</td>\n",
              "      <td>0.096067</td>\n",
              "      <td>0.159651</td>\n",
              "      <td>0.216225</td>\n",
              "      <td>1.000000</td>\n",
              "    </tr>\n",
              "  </tbody>\n",
              "</table>\n",
              "</div>"
            ],
            "text/plain": [
              "          Survived    Pclass       Age     SibSp     Parch      Fare\n",
              "Survived  1.000000 -0.338481 -0.077221 -0.035322  0.081629  0.257307\n",
              "Pclass   -0.338481  1.000000 -0.369226  0.083081  0.018443 -0.549500\n",
              "Age      -0.077221 -0.369226  1.000000 -0.308247 -0.189119  0.096067\n",
              "SibSp    -0.035322  0.083081 -0.308247  1.000000  0.414838  0.159651\n",
              "Parch     0.081629  0.018443 -0.189119  0.414838  1.000000  0.216225\n",
              "Fare      0.257307 -0.549500  0.096067  0.159651  0.216225  1.000000"
            ]
          },
          "metadata": {},
          "execution_count": 54
        }
      ]
    },
    {
      "cell_type": "markdown",
      "metadata": {
        "id": "b8kE9_yYMGSX"
      },
      "source": [
        "# Data Cleaning\n",
        "- Name : Extract name, only keep title\n",
        "- Age, Cabin, Embarked have **nan value** in rows, so we need to set values for them.\n",
        "\n",
        "\n"
      ]
    },
    {
      "cell_type": "markdown",
      "metadata": {
        "id": "OBU9G8dJ3r5u"
      },
      "source": [
        "## Data Cleaning : Name"
      ]
    },
    {
      "cell_type": "markdown",
      "metadata": {
        "id": "FcCmO5iIkmKv"
      },
      "source": [
        ""
      ]
    },
    {
      "cell_type": "code",
      "metadata": {
        "id": "--KX0-rnLssC",
        "colab": {
          "base_uri": "https://localhost:8080/",
          "height": 467
        },
        "outputId": "89885a03-3200-4bfb-99dc-4a166dfb51f6"
      },
      "source": [
        "train['Extract_name'] = train['Name'].apply(lambda x: x.split(',')[1].split('.')[0].strip())\n",
        "most_frequency = list(train['Extract_name'].value_counts()[:5].index) # Top 5 most frequency Title, we called others \"Others\"\n",
        "print(most_frequency)\n",
        "train.loc[~train[\"Extract_name\"].isin(most_frequency), 'Extract_name'] = 'Others'\n",
        "train.loc[:,['Name','Extract_name']] # Now we could use more concise way to present Name"
      ],
      "execution_count": null,
      "outputs": [
        {
          "output_type": "stream",
          "name": "stdout",
          "text": [
            "['Mr', 'Miss', 'Mrs', 'Master', 'Dr']\n"
          ]
        },
        {
          "output_type": "execute_result",
          "data": {
            "text/html": [
              "<div>\n",
              "<style scoped>\n",
              "    .dataframe tbody tr th:only-of-type {\n",
              "        vertical-align: middle;\n",
              "    }\n",
              "\n",
              "    .dataframe tbody tr th {\n",
              "        vertical-align: top;\n",
              "    }\n",
              "\n",
              "    .dataframe thead th {\n",
              "        text-align: right;\n",
              "    }\n",
              "</style>\n",
              "<table border=\"1\" class=\"dataframe\">\n",
              "  <thead>\n",
              "    <tr style=\"text-align: right;\">\n",
              "      <th></th>\n",
              "      <th>Name</th>\n",
              "      <th>Extract_name</th>\n",
              "    </tr>\n",
              "    <tr>\n",
              "      <th>PassengerId</th>\n",
              "      <th></th>\n",
              "      <th></th>\n",
              "    </tr>\n",
              "  </thead>\n",
              "  <tbody>\n",
              "    <tr>\n",
              "      <th>1</th>\n",
              "      <td>Braund, Mr. Owen Harris</td>\n",
              "      <td>Mr</td>\n",
              "    </tr>\n",
              "    <tr>\n",
              "      <th>2</th>\n",
              "      <td>Cumings, Mrs. John Bradley (Florence Briggs Th...</td>\n",
              "      <td>Mrs</td>\n",
              "    </tr>\n",
              "    <tr>\n",
              "      <th>3</th>\n",
              "      <td>Heikkinen, Miss. Laina</td>\n",
              "      <td>Miss</td>\n",
              "    </tr>\n",
              "    <tr>\n",
              "      <th>4</th>\n",
              "      <td>Futrelle, Mrs. Jacques Heath (Lily May Peel)</td>\n",
              "      <td>Mrs</td>\n",
              "    </tr>\n",
              "    <tr>\n",
              "      <th>5</th>\n",
              "      <td>Allen, Mr. William Henry</td>\n",
              "      <td>Mr</td>\n",
              "    </tr>\n",
              "    <tr>\n",
              "      <th>...</th>\n",
              "      <td>...</td>\n",
              "      <td>...</td>\n",
              "    </tr>\n",
              "    <tr>\n",
              "      <th>887</th>\n",
              "      <td>Montvila, Rev. Juozas</td>\n",
              "      <td>Others</td>\n",
              "    </tr>\n",
              "    <tr>\n",
              "      <th>888</th>\n",
              "      <td>Graham, Miss. Margaret Edith</td>\n",
              "      <td>Miss</td>\n",
              "    </tr>\n",
              "    <tr>\n",
              "      <th>889</th>\n",
              "      <td>Johnston, Miss. Catherine Helen \"Carrie\"</td>\n",
              "      <td>Miss</td>\n",
              "    </tr>\n",
              "    <tr>\n",
              "      <th>890</th>\n",
              "      <td>Behr, Mr. Karl Howell</td>\n",
              "      <td>Mr</td>\n",
              "    </tr>\n",
              "    <tr>\n",
              "      <th>891</th>\n",
              "      <td>Dooley, Mr. Patrick</td>\n",
              "      <td>Mr</td>\n",
              "    </tr>\n",
              "  </tbody>\n",
              "</table>\n",
              "<p>891 rows × 2 columns</p>\n",
              "</div>"
            ],
            "text/plain": [
              "                                                          Name Extract_name\n",
              "PassengerId                                                                \n",
              "1                                      Braund, Mr. Owen Harris           Mr\n",
              "2            Cumings, Mrs. John Bradley (Florence Briggs Th...          Mrs\n",
              "3                                       Heikkinen, Miss. Laina         Miss\n",
              "4                 Futrelle, Mrs. Jacques Heath (Lily May Peel)          Mrs\n",
              "5                                     Allen, Mr. William Henry           Mr\n",
              "...                                                        ...          ...\n",
              "887                                      Montvila, Rev. Juozas       Others\n",
              "888                               Graham, Miss. Margaret Edith         Miss\n",
              "889                   Johnston, Miss. Catherine Helen \"Carrie\"         Miss\n",
              "890                                      Behr, Mr. Karl Howell           Mr\n",
              "891                                        Dooley, Mr. Patrick           Mr\n",
              "\n",
              "[891 rows x 2 columns]"
            ]
          },
          "metadata": {},
          "execution_count": 55
        }
      ]
    },
    {
      "cell_type": "code",
      "metadata": {
        "colab": {
          "base_uri": "https://localhost:8080/",
          "height": 393
        },
        "id": "owN8D6M_81pR",
        "outputId": "636f9aa4-70fa-4653-9c82-65e8e12de678"
      },
      "source": [
        "# Show that number of individual names & survived rates\n",
        "fig, ax = plt.subplots(1,2,figsize = (15,6))\n",
        "sns.countplot( x='Extract_name', data=train, palette='Set2', ax = ax[0], order = ['Mr','Miss','Mrs','Master','Dr','Others'])\n",
        "sns.barplot( x='Extract_name', y='Survived', data=train, palette='Set2', ax = ax[1], order = ['Mr','Miss','Mrs','Master','Dr','Others'])\n",
        "train['Extract_name'] = train['Extract_name'].map({'Mr': 0, 'Miss': 1, 'Mrs': 2, 'Master': 3, 'Dr': 4, 'Others': 5})"
      ],
      "execution_count": null,
      "outputs": [
        {
          "output_type": "display_data",
          "data": {
            "image/png": "[encoded data removed]",
            "text/plain": [
              "<Figure size 1080x432 with 2 Axes>"
            ]
          },
          "metadata": {
            "needs_background": "light"
          }
        }
      ]
    },
    {
      "cell_type": "markdown",
      "metadata": {
        "id": "YXvZvffoEz_I"
      },
      "source": [
        "## Data Cleaning : Age"
      ]
    },
    {
      "cell_type": "code",
      "metadata": {
        "id": "r7SGT7RJHFWh",
        "colab": {
          "base_uri": "https://localhost:8080/",
          "height": 405
        },
        "outputId": "1e9d42d8-6d4a-40da-9b6f-c05584fb5e72"
      },
      "source": [
        "fig, axes = plt.subplots(1,1,figsize=(10,6))\n",
        "sns.histplot(train['Age'][(train['Age'].notnull())&(train['Survived']==0)] , kde=True, color='r', ax=axes )\n",
        "sns.histplot(train['Age'][(train['Age'].notnull())&(train['Survived']==1)] , kde=True, color='b', ax=axes )\n",
        "plt.legend(['Not Survived', 'Survived'])# People between 20 and 40 are at high risk of death"
      ],
      "execution_count": null,
      "outputs": [
        {
          "output_type": "execute_result",
          "data": {
            "text/plain": [
              "<matplotlib.legend.Legend at 0x7f1d1b01a890>"
            ]
          },
          "metadata": {},
          "execution_count": 57
        },
        {
          "output_type": "display_data",
          "data": {
            "image/png": "[encoded data removed]",
            "text/plain": [
              "<Figure size 720x432 with 1 Axes>"
            ]
          },
          "metadata": {
            "needs_background": "light"
          }
        }
      ]
    },
    {
      "cell_type": "code",
      "metadata": {
        "id": "kL9L81zkphgn"
      },
      "source": [
        "# Previously we saw that we had 177 rows of Age are null, so we give the mean value of Age to them\n",
        "def Age_classify(age):\n",
        "  return int(age // 10)\n",
        "train['Age'].fillna(value = train['Age'].mean(),inplace = True) # Set the null value to  Age's mean value\n",
        "train['Age'].isna().sum() # Everyone has Age right now!\n",
        "train['Age'] = train['Age'].apply(Age_classify)"
      ],
      "execution_count": null,
      "outputs": []
    },
    {
      "cell_type": "code",
      "metadata": {
        "id": "-WeuqitAh978",
        "colab": {
          "base_uri": "https://localhost:8080/",
          "height": 405
        },
        "outputId": "177f3344-d7ea-4333-fcba-a99eee4b1752"
      },
      "source": [
        "# Show that number of individual Age's classes & survived rates\n",
        "fig, ax = plt.subplots(1,2,figsize = (15,6))\n",
        "sns.countplot( x='Age', data=train, palette='Paired', ax = ax[0])\n",
        "sns.barplot( x='Age', y='Survived', data=train, palette='Paired', ax = ax[1])"
      ],
      "execution_count": null,
      "outputs": [
        {
          "output_type": "execute_result",
          "data": {
            "text/plain": [
              "<matplotlib.axes._subplots.AxesSubplot at 0x7f1cc941a150>"
            ]
          },
          "metadata": {},
          "execution_count": 59
        },
        {
          "output_type": "display_data",
          "data": {
            "image/png": "[encoded data removed]",
            "text/plain": [
              "<Figure size 1080x432 with 2 Axes>"
            ]
          },
          "metadata": {
            "needs_background": "light"
          }
        }
      ]
    },
    {
      "cell_type": "markdown",
      "metadata": {
        "id": "whE1Clswd9B1"
      },
      "source": [
        "## Data Cleaning : Cabin"
      ]
    },
    {
      "cell_type": "code",
      "metadata": {
        "id": "fk4Rz0LYYpp9"
      },
      "source": [
        "train['Cabin'].value_counts() # Only keep letter\n",
        "def Keep_letter(letter):\n",
        "  if type(letter) == float: return 'N' # This is nan condition\n",
        "  else:\n",
        "    return letter[0]\n",
        "train['Cabin'] = train['Cabin'].apply(Keep_letter)"
      ],
      "execution_count": null,
      "outputs": []
    },
    {
      "cell_type": "code",
      "metadata": {
        "id": "sobKqDXGW420",
        "colab": {
          "base_uri": "https://localhost:8080/",
          "height": 405
        },
        "outputId": "79b5063e-9370-40a1-a2d4-cc119e82d6bb"
      },
      "source": [
        "df = pd.concat([train['Cabin'], test['Cabin']])\n",
        "df = df.apply(Keep_letter)\n",
        "fig, ax = plt.subplots(1,2,figsize = (15,6))\n",
        "sns.countplot( x=df, data=train, palette='rainbow', ax = ax[0])\n",
        "sns.barplot( x=df, y='Survived', data=train, palette='rainbow', ax = ax[1])\n",
        "# The result shows that we could split Cabin to five pieces "
      ],
      "execution_count": null,
      "outputs": [
        {
          "output_type": "execute_result",
          "data": {
            "text/plain": [
              "<matplotlib.axes._subplots.AxesSubplot at 0x7f1ccb8dc490>"
            ]
          },
          "metadata": {},
          "execution_count": 61
        },
        {
          "output_type": "display_data",
          "data": {
            "image/png": "[encoded data removed]",
            "text/plain": [
              "<Figure size 1080x432 with 2 Axes>"
            ]
          },
          "metadata": {
            "needs_background": "light"
          }
        }
      ]
    },
    {
      "cell_type": "code",
      "metadata": {
        "id": "GqnG247XvjGi",
        "colab": {
          "base_uri": "https://localhost:8080/",
          "height": 405
        },
        "outputId": "1025a277-d8a4-461e-fb51-84615acebc98"
      },
      "source": [
        "# Show that number of individual Cabin's classes & survived rates\n",
        "train['Cabin'] = train['Cabin'].map({'N': 0, 'T': 0, 'C': 1, 'F': 1, 'E': 2, 'D': 2, 'B': 2, 'G': 3, 'A': 3})\n",
        "fig, ax = plt.subplots(1,2,figsize = (15,6))\n",
        "sns.countplot( x='Cabin', data=train, palette='rainbow', ax = ax[0])\n",
        "sns.barplot( x='Cabin', y='Survived', data=train, palette='rainbow', ax = ax[1]) # Simplify the problem to Five kinds in the Cabin "
      ],
      "execution_count": null,
      "outputs": [
        {
          "output_type": "execute_result",
          "data": {
            "text/plain": [
              "<matplotlib.axes._subplots.AxesSubplot at 0x7f1cc9fe5b50>"
            ]
          },
          "metadata": {},
          "execution_count": 62
        },
        {
          "output_type": "display_data",
          "data": {
            "image/png": "[encoded data removed]",
            "text/plain": [
              "<Figure size 1080x432 with 2 Axes>"
            ]
          },
          "metadata": {
            "needs_background": "light"
          }
        }
      ]
    },
    {
      "cell_type": "markdown",
      "metadata": {
        "id": "dcdXoSvC8Ttd"
      },
      "source": [
        "## Data Cleaning : Embarked"
      ]
    },
    {
      "cell_type": "code",
      "metadata": {
        "id": "Q6GC17DkeOf0",
        "colab": {
          "base_uri": "https://localhost:8080/",
          "height": 388
        },
        "outputId": "e43ef6a9-ccd8-409b-b9a2-80aa7ea3365f"
      },
      "source": [
        "fig, ax = plt.subplots(1,2,figsize = (10,6))\n",
        "sns.countplot(x='Embarked', data=train, palette='rainbow', ax = ax[0]) # To see which port has the most people embarked\n",
        "sns.barplot( x='Embarked', y='Survived', data=train, palette='rainbow', ax = ax[1])\n",
        "train['Embarked'] = train['Embarked'].map({\"S\": 0,\"C\": 1,\"Q\": 2})\n",
        "train['Embarked'].fillna(value = 0, inplace = True) # Set the null value to  0 (Common port)"
      ],
      "execution_count": null,
      "outputs": [
        {
          "output_type": "display_data",
          "data": {
            "image/png": "[encoded data removed]",
            "text/plain": [
              "<Figure size 720x432 with 2 Axes>"
            ]
          },
          "metadata": {
            "needs_background": "light"
          }
        }
      ]
    },
    {
      "cell_type": "markdown",
      "metadata": {
        "id": "5GgGGgFb4_Gq"
      },
      "source": [
        "## Data cleaning : Fare"
      ]
    },
    {
      "cell_type": "code",
      "metadata": {
        "id": "IMdMxDBBovy5",
        "colab": {
          "base_uri": "https://localhost:8080/",
          "height": 779
        },
        "outputId": "2e95842e-7f32-43a1-e4d7-13069dbb357e"
      },
      "source": [
        "# We are not sure how to deal with the fare, so we didn't use that\n",
        "# Processing: \n",
        "#   1.Set all value in Fare to the logarithm of themselves\n",
        "#   2.Split Fare to four classes\n",
        "train['Fare'].value_counts()\n",
        "train['Fare'] = np.log(train['Fare'])\n",
        "for i in train['Fare'].index:\n",
        "  if train['Fare'][i] < 2 : train['Fare'][i] = 0\n",
        "  elif train['Fare'][i] < 3 : train['Fare'][i] = 1\n",
        "  elif train['Fare'][i] < 4 : train['Fare'][i] = 2\n",
        "  else: train['Fare'][i] = 3\n",
        "fig, ax = plt.subplots(1,2,figsize = (10,6))\n",
        "sns.countplot(x='Fare', data=train, palette='rainbow', ax = ax[0])\n",
        "sns.barplot( x='Fare', y='Survived', data=train, palette='rainbow', ax = ax[1])"
      ],
      "execution_count": null,
      "outputs": [
        {
          "output_type": "stream",
          "name": "stderr",
          "text": [
            "/usr/local/lib/python3.7/dist-packages/pandas/core/series.py:726: RuntimeWarning: divide by zero encountered in log\n",
            "  result = getattr(ufunc, method)(*inputs, **kwargs)\n",
            "/usr/local/lib/python3.7/dist-packages/ipykernel_launcher.py:8: SettingWithCopyWarning: \n",
            "A value is trying to be set on a copy of a slice from a DataFrame\n",
            "\n",
            "See the caveats in the documentation: https://pandas.pydata.org/pandas-docs/stable/user_guide/indexing.html#returning-a-view-versus-a-copy\n",
            "  \n",
            "/usr/local/lib/python3.7/dist-packages/ipykernel_launcher.py:11: SettingWithCopyWarning: \n",
            "A value is trying to be set on a copy of a slice from a DataFrame\n",
            "\n",
            "See the caveats in the documentation: https://pandas.pydata.org/pandas-docs/stable/user_guide/indexing.html#returning-a-view-versus-a-copy\n",
            "  # This is added back by InteractiveShellApp.init_path()\n",
            "/usr/local/lib/python3.7/dist-packages/ipykernel_launcher.py:9: SettingWithCopyWarning: \n",
            "A value is trying to be set on a copy of a slice from a DataFrame\n",
            "\n",
            "See the caveats in the documentation: https://pandas.pydata.org/pandas-docs/stable/user_guide/indexing.html#returning-a-view-versus-a-copy\n",
            "  if __name__ == '__main__':\n",
            "/usr/local/lib/python3.7/dist-packages/ipykernel_launcher.py:10: SettingWithCopyWarning: \n",
            "A value is trying to be set on a copy of a slice from a DataFrame\n",
            "\n",
            "See the caveats in the documentation: https://pandas.pydata.org/pandas-docs/stable/user_guide/indexing.html#returning-a-view-versus-a-copy\n",
            "  # Remove the CWD from sys.path while we load stuff.\n"
          ]
        },
        {
          "output_type": "execute_result",
          "data": {
            "text/plain": [
              "<matplotlib.axes._subplots.AxesSubplot at 0x7f1cc8e80f10>"
            ]
          },
          "metadata": {},
          "execution_count": 64
        },
        {
          "output_type": "display_data",
          "data": {
            "image/png": "[encoded data removed]",
            "text/plain": [
              "<Figure size 720x432 with 2 Axes>"
            ]
          },
          "metadata": {
            "needs_background": "light"
          }
        }
      ]
    },
    {
      "cell_type": "markdown",
      "metadata": {
        "id": "8GD2MnzJ24R7"
      },
      "source": [
        "## Data cleaning: Sibsp + Parch"
      ]
    },
    {
      "cell_type": "code",
      "metadata": {
        "colab": {
          "base_uri": "https://localhost:8080/",
          "height": 409
        },
        "id": "8DxIYjl32_1S",
        "outputId": "10bd45a9-f76b-4fce-a0c0-7863cc9f8750"
      },
      "source": [
        "train['Family'] = train['Parch'] + train['SibSp'] + 1 # Including own self\n",
        "train.loc[train['Family'] >= 5, 'Family'] = 4\n",
        "fig, ax = plt.subplots(1,2,figsize = (15,6))\n",
        "sns.countplot( x='Family', data=train, palette='Spectral', ax = ax[0])\n",
        "sns.barplot( x='Family', y='Survived', data=train, palette='Spectral', ax = ax[1])\n",
        "# The result shows that we could split Cabin to five pieces "
      ],
      "execution_count": null,
      "outputs": [
        {
          "output_type": "execute_result",
          "data": {
            "text/plain": [
              "<matplotlib.axes._subplots.AxesSubplot at 0x7f1cc8d71590>"
            ]
          },
          "metadata": {},
          "execution_count": 65
        },
        {
          "output_type": "display_data",
          "data": {
            "image/png": "[encoded data removed]",
            "text/plain": [
              "<Figure size 1080x432 with 2 Axes>"
            ]
          },
          "metadata": {
            "needs_background": "light"
          }
        }
      ]
    },
    {
      "cell_type": "code",
      "metadata": {
        "id": "915f7Ymljl9q"
      },
      "source": [
        "# We use one hot vector on Pclass, but its result was not good\n",
        "# train = train.join(pd.get_dummies(train['Pclass'], prefix='Pclass_')) \n",
        "train['Sex'] = train['Sex'].map({'male': 0, 'female': 1})\n",
        "Y_train = train[[\"Survived\"]].values\n",
        "train.drop(['Name', 'Fare','Ticket', 'Survived', 'Parch', 'SibSp'], axis = 1, inplace = True)# Maybe useless(?\n",
        "\n",
        "X_train = train.values"
      ],
      "execution_count": null,
      "outputs": []
    },
    {
      "cell_type": "code",
      "metadata": {
        "id": "Zz20vLbcEacA",
        "colab": {
          "base_uri": "https://localhost:8080/",
          "height": 450
        },
        "outputId": "79a4999c-2c8c-463e-fc3d-574c374dfdb0"
      },
      "source": [
        "# Change type to int\n",
        "train['Embarked'] = train['Embarked'].astype(int)\n",
        "train['Cabin'] = train['Cabin'].astype(int)\n",
        "train"
      ],
      "execution_count": null,
      "outputs": [
        {
          "output_type": "execute_result",
          "data": {
            "text/html": [
              "<div>\n",
              "<style scoped>\n",
              "    .dataframe tbody tr th:only-of-type {\n",
              "        vertical-align: middle;\n",
              "    }\n",
              "\n",
              "    .dataframe tbody tr th {\n",
              "        vertical-align: top;\n",
              "    }\n",
              "\n",
              "    .dataframe thead th {\n",
              "        text-align: right;\n",
              "    }\n",
              "</style>\n",
              "<table border=\"1\" class=\"dataframe\">\n",
              "  <thead>\n",
              "    <tr style=\"text-align: right;\">\n",
              "      <th></th>\n",
              "      <th>Pclass</th>\n",
              "      <th>Sex</th>\n",
              "      <th>Age</th>\n",
              "      <th>Cabin</th>\n",
              "      <th>Embarked</th>\n",
              "      <th>Extract_name</th>\n",
              "      <th>Family</th>\n",
              "    </tr>\n",
              "    <tr>\n",
              "      <th>PassengerId</th>\n",
              "      <th></th>\n",
              "      <th></th>\n",
              "      <th></th>\n",
              "      <th></th>\n",
              "      <th></th>\n",
              "      <th></th>\n",
              "      <th></th>\n",
              "    </tr>\n",
              "  </thead>\n",
              "  <tbody>\n",
              "    <tr>\n",
              "      <th>1</th>\n",
              "      <td>3</td>\n",
              "      <td>0</td>\n",
              "      <td>2</td>\n",
              "      <td>0</td>\n",
              "      <td>0</td>\n",
              "      <td>0</td>\n",
              "      <td>2</td>\n",
              "    </tr>\n",
              "    <tr>\n",
              "      <th>2</th>\n",
              "      <td>1</td>\n",
              "      <td>1</td>\n",
              "      <td>3</td>\n",
              "      <td>1</td>\n",
              "      <td>1</td>\n",
              "      <td>2</td>\n",
              "      <td>2</td>\n",
              "    </tr>\n",
              "    <tr>\n",
              "      <th>3</th>\n",
              "      <td>3</td>\n",
              "      <td>1</td>\n",
              "      <td>2</td>\n",
              "      <td>0</td>\n",
              "      <td>0</td>\n",
              "      <td>1</td>\n",
              "      <td>1</td>\n",
              "    </tr>\n",
              "    <tr>\n",
              "      <th>4</th>\n",
              "      <td>1</td>\n",
              "      <td>1</td>\n",
              "      <td>3</td>\n",
              "      <td>1</td>\n",
              "      <td>0</td>\n",
              "      <td>2</td>\n",
              "      <td>2</td>\n",
              "    </tr>\n",
              "    <tr>\n",
              "      <th>5</th>\n",
              "      <td>3</td>\n",
              "      <td>0</td>\n",
              "      <td>3</td>\n",
              "      <td>0</td>\n",
              "      <td>0</td>\n",
              "      <td>0</td>\n",
              "      <td>1</td>\n",
              "    </tr>\n",
              "    <tr>\n",
              "      <th>...</th>\n",
              "      <td>...</td>\n",
              "      <td>...</td>\n",
              "      <td>...</td>\n",
              "      <td>...</td>\n",
              "      <td>...</td>\n",
              "      <td>...</td>\n",
              "      <td>...</td>\n",
              "    </tr>\n",
              "    <tr>\n",
              "      <th>887</th>\n",
              "      <td>2</td>\n",
              "      <td>0</td>\n",
              "      <td>2</td>\n",
              "      <td>0</td>\n",
              "      <td>0</td>\n",
              "      <td>5</td>\n",
              "      <td>1</td>\n",
              "    </tr>\n",
              "    <tr>\n",
              "      <th>888</th>\n",
              "      <td>1</td>\n",
              "      <td>1</td>\n",
              "      <td>1</td>\n",
              "      <td>2</td>\n",
              "      <td>0</td>\n",
              "      <td>1</td>\n",
              "      <td>1</td>\n",
              "    </tr>\n",
              "    <tr>\n",
              "      <th>889</th>\n",
              "      <td>3</td>\n",
              "      <td>1</td>\n",
              "      <td>2</td>\n",
              "      <td>0</td>\n",
              "      <td>0</td>\n",
              "      <td>1</td>\n",
              "      <td>4</td>\n",
              "    </tr>\n",
              "    <tr>\n",
              "      <th>890</th>\n",
              "      <td>1</td>\n",
              "      <td>0</td>\n",
              "      <td>2</td>\n",
              "      <td>1</td>\n",
              "      <td>1</td>\n",
              "      <td>0</td>\n",
              "      <td>1</td>\n",
              "    </tr>\n",
              "    <tr>\n",
              "      <th>891</th>\n",
              "      <td>3</td>\n",
              "      <td>0</td>\n",
              "      <td>3</td>\n",
              "      <td>0</td>\n",
              "      <td>2</td>\n",
              "      <td>0</td>\n",
              "      <td>1</td>\n",
              "    </tr>\n",
              "  </tbody>\n",
              "</table>\n",
              "<p>891 rows × 7 columns</p>\n",
              "</div>"
            ],
            "text/plain": [
              "             Pclass  Sex  Age  Cabin  Embarked  Extract_name  Family\n",
              "PassengerId                                                         \n",
              "1                 3    0    2      0         0             0       2\n",
              "2                 1    1    3      1         1             2       2\n",
              "3                 3    1    2      0         0             1       1\n",
              "4                 1    1    3      1         0             2       2\n",
              "5                 3    0    3      0         0             0       1\n",
              "...             ...  ...  ...    ...       ...           ...     ...\n",
              "887               2    0    2      0         0             5       1\n",
              "888               1    1    1      2         0             1       1\n",
              "889               3    1    2      0         0             1       4\n",
              "890               1    0    2      1         1             0       1\n",
              "891               3    0    3      0         2             0       1\n",
              "\n",
              "[891 rows x 7 columns]"
            ]
          },
          "metadata": {},
          "execution_count": 67
        }
      ]
    },
    {
      "cell_type": "markdown",
      "metadata": {
        "id": "PaNaRLSOhejK"
      },
      "source": [
        "# Data Preprocessing: Test"
      ]
    },
    {
      "cell_type": "code",
      "metadata": {
        "id": "mCL52xq4vHn2",
        "colab": {
          "base_uri": "https://localhost:8080/"
        },
        "outputId": "f70c823f-6eff-40a8-8457-ae6cfdd3b708"
      },
      "source": [
        "# Do the same thing, Data cleaning and Engineer\n",
        "# Name -> Extract_name\n",
        "test['Extract_name'] = test['Name'].apply(lambda x: x.split(',')[1].split('.')[0].strip())\n",
        "test.loc[~test[\"Extract_name\"].isin(most_frequency), 'Extract_name'] = 'Others'\n",
        "test.loc[:,['Name','Extract_name']] # Now we could use more concise way to present Name\n",
        "test['Extract_name'] = test['Extract_name'].map({'Mr': 0, 'Miss': 1, 'Mrs': 2, 'Master': 3, 'Dr': 4, 'Others': 5})\n",
        "# Age\n",
        "test['Age'].fillna(value = test['Age'].mean(),inplace = True)\n",
        "test['Age'] = test['Age'].apply(Age_classify)\n",
        "# Cabin\n",
        "test['Cabin'] = test['Cabin'].apply(Keep_letter)\n",
        "test['Cabin'] = test['Cabin'].map({'N': 0, 'T': 0, 'C': 1, 'F': 1, 'E': 2, 'D': 2, 'B': 2, 'G': 3, 'A': 3})\n",
        "# Embarked\n",
        "test['Embarked'] = test['Embarked'].map({\"S\": 0,\"C\": 1,\"Q\": 2})\n",
        "test['Embarked'].fillna(value = 0, inplace = True)\n",
        "\n",
        "#test = test.join(pd.get_dummies(test['Pclass'], prefix='Pclass_'))\n",
        "# Sex\n",
        "test['Sex'] = test['Sex'].map({'male': 0, 'female': 1})\n",
        "# Sibsp, Parch -> Family\n",
        "test['Family'] = test['Parch'] + test['SibSp'] + 1 # Including own self\n",
        "test.loc[test['Family'] >= 5, 'Family'] = 4\n",
        "# Fare\n",
        "# test['Fare'] = np.log(test['Fare'])\n",
        "# for i in test['Fare'].index:\n",
        "#   if test['Fare'][i] < 2 : test['Fare'][i] = 0\n",
        "#   elif test['Fare'][i] < 3 : test['Fare'][i] = 1\n",
        "#   elif test['Fare'][i] < 4 : test['Fare'][i] = 2\n",
        "#   else: test['Fare'][i] = 3\n",
        "\n",
        "test.drop(['Name','Fare','Ticket', 'Parch', 'SibSp'], axis = 1, inplace = True)# Maybe useless(?\n",
        "X_test = test.values\n",
        "\n",
        "test['Embarked'] = test['Embarked'].astype(int)\n",
        "test['Cabin'] = test['Cabin'].astype(int)\n",
        "\n",
        "X_test = preprocessing.scale(X_test)\n",
        "X_test.shape\n",
        "test.isna().sum()"
      ],
      "execution_count": null,
      "outputs": [
        {
          "output_type": "execute_result",
          "data": {
            "text/plain": [
              "Pclass          0\n",
              "Sex             0\n",
              "Age             0\n",
              "Cabin           0\n",
              "Embarked        0\n",
              "Extract_name    0\n",
              "Family          0\n",
              "dtype: int64"
            ]
          },
          "metadata": {},
          "execution_count": 69
        }
      ]
    },
    {
      "cell_type": "markdown",
      "metadata": {
        "id": "eJSO9ydDhFLI"
      },
      "source": [
        "# Model Training"
      ]
    },
    {
      "cell_type": "code",
      "metadata": {
        "id": "yHXS2p25JJ2v",
        "colab": {
          "base_uri": "https://localhost:8080/",
          "height": 1000
        },
        "outputId": "e68c5bd7-faee-4aca-d020-a17154fd6bbe"
      },
      "source": [
        "# Use keras.models.Sequential()\n",
        "# Build, compile and fit the model\n",
        "from keras.layers import *\n",
        "from keras.models import Sequential\n",
        "from tensorflow.keras import optimizers\n",
        "from keras.callbacks import EarlyStopping, ModelCheckpoint\n",
        "import tensorflow as tf \n",
        "\n",
        "# Standardize data for MLP\n",
        "from sklearn import preprocessing\n",
        "\n",
        "# Fixed the result\n",
        "tf.random.set_seed(69)\n",
        "\n",
        "X_train = preprocessing.scale(X_train)\n",
        "print(X_train)\n",
        "\n",
        "# Try and Error!\n",
        "model = Sequential()\n",
        "model.add(Dense(16, activation = \"relu\", input_dim = X_train.shape[1]))\n",
        "#model.add(Dropout(0.1))\n",
        "model.add(Dense(16, activation = \"relu\"))\n",
        "#model.add(Dropout(0.1))\n",
        "#model.add(Dense(16, activation = \"relu\"))\n",
        "#model.add(Dropout(0.1))\n",
        "model.add(Dense(1, activation = \"sigmoid\"))\n",
        "# Hyperparameter \n",
        "epochs = 50\n",
        "#lr = 0.01\n",
        "#decay = lr / epochs\n",
        "#momentum = 0.8\n",
        "\n",
        "# Preset of Opt is better than we tried\n",
        "#opt = optimizers.Adam(lr = 0.001,decay = 0, beta_1=0.9, beta_2=0.999, epsilon = None, amsgrad = True)\n",
        "#opt = optimizers.SGD(lr=lr, decay=decay, momentum=momentum, nesterov=False)\n",
        "\n",
        "# training\n",
        "model.compile(loss = \"binary_crossentropy\", optimizer = 'Adam', metrics = [\"accuracy\"])\n",
        "\n",
        "# track model performance, we also tried earlystop and checkpoint\n",
        "stop = EarlyStopping(monitor = 'val_loss', patience = epochs, verbose = 1)\n",
        "filePath = '/content/drive/MyDrive/Colab Notebooks/tmp/weights.hdf5'\n",
        "checkpointer = ModelCheckpoint(filepath= filePath, monitor = \"val_loss\", mode = 'min',verbose=1, save_best_only=True)\n",
        "\n",
        "history = model.fit(X_train, Y_train, epochs = epochs, validation_split = 0.33, shuffle = True, \n",
        "        verbose = 1, batch_size = 8)\n",
        "Loss, Accurancy = model.evaluate(X_train, Y_train)  \n",
        "print(\"Loss: {0}, Accurancy: {1}\".format(Loss, Accurancy)) # Performance \n",
        "#model.load_weights(checkpointer)\n",
        "\n",
        "plt.plot(history.history['accuracy'])\n",
        "plt.plot(history.history['val_accuracy'])\n",
        "plt.title('Model Accuracy')\n",
        "plt.ylabel('accuracy')\n",
        "plt.xlabel('epoch')\n",
        "plt.legend(['train', 'validation'], loc='upper left')\n",
        "plt.show()\n",
        "# summarize history for loss\n",
        "plt.plot(history.history['loss'])\n",
        "plt.plot(history.history['val_loss'])\n",
        "plt.title('Model Loss')\n",
        "plt.ylabel('loss')\n",
        "plt.xlabel('epoch')\n",
        "plt.legend(['train', 'validation'], loc='upper left')\n",
        "plt.show()"
      ],
      "execution_count": null,
      "outputs": [
        {
          "output_type": "stream",
          "name": "stdout",
          "text": [
            "[[ 0.82737724 -0.73769513 -0.31048834 ... -0.56883712 -0.67618558\n",
            "   0.2777598 ]\n",
            " [-1.56610693  1.35557354  0.42723196 ...  1.00518113  1.09581839\n",
            "   0.2777598 ]\n",
            " [ 0.82737724  1.35557354 -0.31048834 ... -0.56883712  0.20981641\n",
            "  -0.70043777]\n",
            " ...\n",
            " [ 0.82737724  1.35557354 -0.31048834 ... -0.56883712  0.20981641\n",
            "   2.23415495]\n",
            " [-1.56610693 -0.73769513 -0.31048834 ...  1.00518113 -0.67618558\n",
            "  -0.70043777]\n",
            " [ 0.82737724 -0.73769513  0.42723196 ...  2.57919938 -0.67618558\n",
            "  -0.70043777]]\n",
            "Epoch 1/50\n",
            "75/75 [==============================] - 1s 5ms/step - loss: 0.6413 - accuracy: 0.6812 - val_loss: 0.5760 - val_accuracy: 0.7458\n",
            "Epoch 2/50\n",
            "75/75 [==============================] - 0s 3ms/step - loss: 0.5337 - accuracy: 0.7634 - val_loss: 0.4907 - val_accuracy: 0.7695\n",
            "Epoch 3/50\n",
            "75/75 [==============================] - 0s 3ms/step - loss: 0.4827 - accuracy: 0.7785 - val_loss: 0.4557 - val_accuracy: 0.7864\n",
            "Epoch 4/50\n",
            "75/75 [==============================] - 0s 2ms/step - loss: 0.4593 - accuracy: 0.7987 - val_loss: 0.4409 - val_accuracy: 0.8000\n",
            "Epoch 5/50\n",
            "75/75 [==============================] - 0s 3ms/step - loss: 0.4509 - accuracy: 0.8020 - val_loss: 0.4337 - val_accuracy: 0.8034\n",
            "Epoch 6/50\n",
            "75/75 [==============================] - 0s 2ms/step - loss: 0.4415 - accuracy: 0.8037 - val_loss: 0.4273 - val_accuracy: 0.8034\n",
            "Epoch 7/50\n",
            "75/75 [==============================] - 0s 3ms/step - loss: 0.4360 - accuracy: 0.8054 - val_loss: 0.4247 - val_accuracy: 0.8000\n",
            "Epoch 8/50\n",
            "75/75 [==============================] - 0s 2ms/step - loss: 0.4312 - accuracy: 0.8054 - val_loss: 0.4199 - val_accuracy: 0.7966\n",
            "Epoch 9/50\n",
            "75/75 [==============================] - 0s 3ms/step - loss: 0.4277 - accuracy: 0.8087 - val_loss: 0.4189 - val_accuracy: 0.8000\n",
            "Epoch 10/50\n",
            "75/75 [==============================] - 0s 2ms/step - loss: 0.4257 - accuracy: 0.8221 - val_loss: 0.4145 - val_accuracy: 0.8102\n",
            "Epoch 11/50\n",
            "75/75 [==============================] - 0s 3ms/step - loss: 0.4232 - accuracy: 0.8272 - val_loss: 0.4116 - val_accuracy: 0.8102\n",
            "Epoch 12/50\n",
            "75/75 [==============================] - 0s 2ms/step - loss: 0.4189 - accuracy: 0.8171 - val_loss: 0.4092 - val_accuracy: 0.8203\n",
            "Epoch 13/50\n",
            "75/75 [==============================] - 0s 3ms/step - loss: 0.4166 - accuracy: 0.8205 - val_loss: 0.4054 - val_accuracy: 0.8203\n",
            "Epoch 14/50\n",
            "75/75 [==============================] - 0s 2ms/step - loss: 0.4136 - accuracy: 0.8255 - val_loss: 0.4036 - val_accuracy: 0.8271\n",
            "Epoch 15/50\n",
            "75/75 [==============================] - 0s 2ms/step - loss: 0.4117 - accuracy: 0.8238 - val_loss: 0.4016 - val_accuracy: 0.8237\n",
            "Epoch 16/50\n",
            "75/75 [==============================] - 0s 2ms/step - loss: 0.4086 - accuracy: 0.8238 - val_loss: 0.4009 - val_accuracy: 0.8271\n",
            "Epoch 17/50\n",
            "75/75 [==============================] - 0s 2ms/step - loss: 0.4071 - accuracy: 0.8221 - val_loss: 0.4006 - val_accuracy: 0.8339\n",
            "Epoch 18/50\n",
            "75/75 [==============================] - 0s 3ms/step - loss: 0.4057 - accuracy: 0.8322 - val_loss: 0.4012 - val_accuracy: 0.8339\n",
            "Epoch 19/50\n",
            "75/75 [==============================] - 0s 2ms/step - loss: 0.4036 - accuracy: 0.8238 - val_loss: 0.3976 - val_accuracy: 0.8305\n",
            "Epoch 20/50\n",
            "75/75 [==============================] - 0s 2ms/step - loss: 0.4000 - accuracy: 0.8255 - val_loss: 0.3981 - val_accuracy: 0.8339\n",
            "Epoch 21/50\n",
            "75/75 [==============================] - 0s 3ms/step - loss: 0.4002 - accuracy: 0.8305 - val_loss: 0.3966 - val_accuracy: 0.8373\n",
            "Epoch 22/50\n",
            "75/75 [==============================] - 0s 3ms/step - loss: 0.3982 - accuracy: 0.8322 - val_loss: 0.3977 - val_accuracy: 0.8373\n",
            "Epoch 23/50\n",
            "75/75 [==============================] - 0s 3ms/step - loss: 0.3957 - accuracy: 0.8322 - val_loss: 0.3966 - val_accuracy: 0.8373\n",
            "Epoch 24/50\n",
            "75/75 [==============================] - 0s 3ms/step - loss: 0.3946 - accuracy: 0.8389 - val_loss: 0.3966 - val_accuracy: 0.8373\n",
            "Epoch 25/50\n",
            "75/75 [==============================] - 0s 3ms/step - loss: 0.3942 - accuracy: 0.8406 - val_loss: 0.3969 - val_accuracy: 0.8373\n",
            "Epoch 26/50\n",
            "75/75 [==============================] - 0s 3ms/step - loss: 0.3923 - accuracy: 0.8440 - val_loss: 0.3964 - val_accuracy: 0.8373\n",
            "Epoch 27/50\n",
            "75/75 [==============================] - 0s 2ms/step - loss: 0.3922 - accuracy: 0.8389 - val_loss: 0.3951 - val_accuracy: 0.8373\n",
            "Epoch 28/50\n",
            "75/75 [==============================] - 0s 2ms/step - loss: 0.3896 - accuracy: 0.8423 - val_loss: 0.3975 - val_accuracy: 0.8373\n",
            "Epoch 29/50\n",
            "75/75 [==============================] - 0s 2ms/step - loss: 0.3889 - accuracy: 0.8389 - val_loss: 0.3940 - val_accuracy: 0.8339\n",
            "Epoch 30/50\n",
            "75/75 [==============================] - 0s 2ms/step - loss: 0.3884 - accuracy: 0.8440 - val_loss: 0.3950 - val_accuracy: 0.8373\n",
            "Epoch 31/50\n",
            "75/75 [==============================] - 0s 2ms/step - loss: 0.3873 - accuracy: 0.8406 - val_loss: 0.3944 - val_accuracy: 0.8373\n",
            "Epoch 32/50\n",
            "75/75 [==============================] - 0s 2ms/step - loss: 0.3864 - accuracy: 0.8423 - val_loss: 0.3938 - val_accuracy: 0.8373\n",
            "Epoch 33/50\n",
            "75/75 [==============================] - 0s 2ms/step - loss: 0.3853 - accuracy: 0.8490 - val_loss: 0.3964 - val_accuracy: 0.8373\n",
            "Epoch 34/50\n",
            "75/75 [==============================] - 0s 3ms/step - loss: 0.3845 - accuracy: 0.8440 - val_loss: 0.3956 - val_accuracy: 0.8373\n",
            "Epoch 35/50\n",
            "75/75 [==============================] - 0s 3ms/step - loss: 0.3836 - accuracy: 0.8440 - val_loss: 0.3937 - val_accuracy: 0.8373\n",
            "Epoch 36/50\n",
            "75/75 [==============================] - 0s 2ms/step - loss: 0.3820 - accuracy: 0.8456 - val_loss: 0.3946 - val_accuracy: 0.8373\n",
            "Epoch 37/50\n",
            "75/75 [==============================] - 0s 3ms/step - loss: 0.3812 - accuracy: 0.8473 - val_loss: 0.3962 - val_accuracy: 0.8373\n",
            "Epoch 38/50\n",
            "75/75 [==============================] - 0s 2ms/step - loss: 0.3803 - accuracy: 0.8456 - val_loss: 0.3993 - val_accuracy: 0.8339\n",
            "Epoch 39/50\n",
            "75/75 [==============================] - 0s 2ms/step - loss: 0.3796 - accuracy: 0.8423 - val_loss: 0.3949 - val_accuracy: 0.8373\n",
            "Epoch 40/50\n",
            "75/75 [==============================] - 0s 3ms/step - loss: 0.3786 - accuracy: 0.8406 - val_loss: 0.3965 - val_accuracy: 0.8339\n",
            "Epoch 41/50\n",
            "75/75 [==============================] - 0s 2ms/step - loss: 0.3790 - accuracy: 0.8490 - val_loss: 0.3976 - val_accuracy: 0.8305\n",
            "Epoch 42/50\n",
            "75/75 [==============================] - 0s 2ms/step - loss: 0.3771 - accuracy: 0.8523 - val_loss: 0.3988 - val_accuracy: 0.8339\n",
            "Epoch 43/50\n",
            "75/75 [==============================] - 0s 3ms/step - loss: 0.3754 - accuracy: 0.8473 - val_loss: 0.3972 - val_accuracy: 0.8339\n",
            "Epoch 44/50\n",
            "75/75 [==============================] - 0s 3ms/step - loss: 0.3767 - accuracy: 0.8473 - val_loss: 0.3983 - val_accuracy: 0.8373\n",
            "Epoch 45/50\n",
            "75/75 [==============================] - 0s 2ms/step - loss: 0.3769 - accuracy: 0.8507 - val_loss: 0.4001 - val_accuracy: 0.8339\n",
            "Epoch 46/50\n",
            "75/75 [==============================] - 0s 2ms/step - loss: 0.3747 - accuracy: 0.8507 - val_loss: 0.3998 - val_accuracy: 0.8305\n",
            "Epoch 47/50\n",
            "75/75 [==============================] - 0s 2ms/step - loss: 0.3714 - accuracy: 0.8490 - val_loss: 0.3970 - val_accuracy: 0.8339\n",
            "Epoch 48/50\n",
            "75/75 [==============================] - 0s 3ms/step - loss: 0.3727 - accuracy: 0.8540 - val_loss: 0.3993 - val_accuracy: 0.8373\n",
            "Epoch 49/50\n",
            "75/75 [==============================] - 0s 3ms/step - loss: 0.3722 - accuracy: 0.8490 - val_loss: 0.4000 - val_accuracy: 0.8305\n",
            "Epoch 50/50\n",
            "75/75 [==============================] - 0s 3ms/step - loss: 0.3731 - accuracy: 0.8557 - val_loss: 0.4031 - val_accuracy: 0.8339\n",
            "28/28 [==============================] - 0s 1ms/step - loss: 0.3771 - accuracy: 0.8485\n",
            "Loss: 0.3770635724067688, Accurancy: 0.8484848737716675\n"
          ]
        },
        {
          "output_type": "display_data",
          "data": {
            "image/png": "[encoded data removed]",
            "text/plain": [
              "<Figure size 432x288 with 1 Axes>"
            ]
          },
          "metadata": {
            "needs_background": "light"
          }
        },
        {
          "output_type": "display_data",
          "data": {
            "image/png": "[encoded data removed]",
            "text/plain": [
              "<Figure size 432x288 with 1 Axes>"
            ]
          },
          "metadata": {
            "needs_background": "light"
          }
        }
      ]
    },
    {
      "cell_type": "markdown",
      "metadata": {
        "id": "apLJDicihMzY"
      },
      "source": [
        "# Data Prediction"
      ]
    },
    {
      "cell_type": "code",
      "metadata": {
        "id": "Qdsm4zMivK5R",
        "colab": {
          "base_uri": "https://localhost:8080/"
        },
        "outputId": "88ead36c-1966-4bf1-8948-0fe5d8450ee4"
      },
      "source": [
        "# Sigmoid activation gives probabilities of 1 (Survived) \n",
        "# Binarizer turns this into appropiate output for competition guidelines\n",
        "predictions = model.predict(X_test, batch_size=8)\n",
        "print(X_test)\n",
        "from sklearn.preprocessing import Binarizer\n",
        "binarizer = Binarizer(threshold = 0.5)\n",
        "predictions = binarizer.fit_transform(predictions)\n",
        "predictions = predictions.astype(int)                       \n",
        "\n",
        "# Create submission file\n",
        "PassengerId = test.index\n",
        "evaluation = PassengerId.to_frame()\n",
        "evaluation[\"Survived\"] = predictions\n",
        "evaluation.to_csv(\"evaluation_submission.csv\", index = False)"
      ],
      "execution_count": null,
      "outputs": [
        {
          "output_type": "stream",
          "name": "stdout",
          "text": [
            "[[ 0.87348191 -0.75592895  0.24717048 ...  2.24316522 -0.71398966\n",
            "  -0.70326231]\n",
            " [ 0.87348191  1.32287566  1.023992   ... -0.6778412   1.15715565\n",
            "   0.31040543]\n",
            " [-0.31581919 -0.75592895  2.57763504 ...  2.24316522 -0.71398966\n",
            "  -0.70326231]\n",
            " ...\n",
            " [ 0.87348191 -0.75592895  0.24717048 ... -0.6778412  -0.71398966\n",
            "  -0.70326231]\n",
            " [ 0.87348191 -0.75592895  0.24717048 ... -0.6778412  -0.71398966\n",
            "  -0.70326231]\n",
            " [ 0.87348191 -0.75592895  0.24717048 ...  0.78266201  2.09272831\n",
            "   1.32407317]]\n"
          ]
        }
      ]
    }
  ]
}